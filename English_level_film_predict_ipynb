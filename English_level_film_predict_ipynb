{
  "nbformat": 4,
  "nbformat_minor": 0,
  "metadata": {
    "colab": {
      "provenance": []
    },
    "kernelspec": {
      "name": "python3",
      "display_name": "Python 3"
    },
    "language_info": {
      "name": "python"
    }
  },
  "cells": [
    {
      "cell_type": "markdown",
      "source": [
        "# **Предскзание сложности английских фильмов на основе Субтитров**"
      ],
      "metadata": {
        "id": "xX8jXSRRqObc"
      }
    },
    {
      "cell_type": "markdown",
      "source": [
        "Проект:\n",
        "\n",
        "Запрос сформирован тем, что просмотр фильмов на оригинальном языке- это популярный и действенный метод упражнений по изучению иностранных языков. Важно выбрать фильм, который подходит студенту по уровню сложности, т.е. студент понимал 50-70 % диалогов. Чтобы выполнить это условие, преподаватель должен посмотреть фильм и решить, какому уровню он соответствует. Однако это требует больших временных затрат.\n",
        "\n",
        "Заказчику необходимо:\n",
        "\n",
        "Разработать ML решение для автоматического определения уровня сложности англоязычных фильмов;\n",
        "\n",
        "Имеющиеся данные:\n",
        "- размеченный датасет с названиями фильмов в формате excel, субтитрами и меткой уровня сложности языка (A1/A2/B1/B2/C1/C2)\n",
        "- файлы субтитров в формате .srt, отсортированные по каталогам в соответствии с уровнем сложности\n",
        "- словари Oxford (на 3000 и 5000 тыс.слов), в которых слова на английском сгруппированы по уровню сложности"
      ],
      "metadata": {
        "id": "WfyaoEednnyc"
      }
    },
    {
      "cell_type": "markdown",
      "source": [
        "Какие изменения я вносил в имеющиеся данные?\n",
        "- Собрал все субтитры фильмов и сериалов в единную папку- https://drive.google.com/drive/folders/13qVCq8yv25Pmc0Kll1XXhPHqPd1Nx7Vv?usp=sharing\n",
        "- ('/content/drive/MyDrive/Сабы')\n",
        "- Залил на гугл диск список фильмов с указанным уровнем языка- https://docs.google.com/spreadsheets/d/1RjKxOLoLakS3nIED1wUXNExDjR51s2Om/edit?usp=sharing&ouid=101205604110403851950&rtpof=true&sd=true\n",
        "- ('/content/drive/MyDrive/DS/movies_labels.xlsx')\n",
        "- Собрал дополненный датасет с новыми и старыми субтитрами, в котором постарался устранить дисбаланс, путем добавления новых фильмов, уровни которых были размечены через открыте источники- https://drive.google.com/drive/folders/18f0UIXSY3S8AyOFZmmMTYOaoh85Sfd0H?usp=sharing\n",
        "- ('/content/drive/MyDrive/DS/Updated subs'  )\n",
        "- Создал дополненный список, в котором помимо уже имеющихся данных с разметкой указал и новые фильмы и уровень их сложности- https://docs.google.com/spreadsheets/d/11PKlZEzzBNArKmdgdE5TOArWFLASmwnt/edit?usp=sharing&ouid=101205604110403851950&rtpof=true&sd=true\n",
        "- ('/content/drive/MyDrive/DS/updated_movies_labels.xlsx')"
      ],
      "metadata": {
        "id": "gAynib0Ypehl"
      }
    },
    {
      "cell_type": "code",
      "execution_count": 1,
      "metadata": {
        "id": "kz8VTA8e3OnK",
        "colab": {
          "base_uri": "https://localhost:8080/",
          "height": 1000
        },
        "outputId": "4bb02dcb-4f16-40d2-cd7b-8867e4bafee0"
      },
      "outputs": [
        {
          "output_type": "stream",
          "name": "stdout",
          "text": [
            "Collecting pysrt\n",
            "  Downloading pysrt-1.1.2.tar.gz (104 kB)\n",
            "\u001b[?25l     \u001b[90m━━━━━━━━━━━━━━━━━━━━━━━━━━━━━━━━━━━━━━━━\u001b[0m \u001b[32m0.0/104.4 kB\u001b[0m \u001b[31m?\u001b[0m eta \u001b[36m-:--:--\u001b[0m\r\u001b[2K     \u001b[90m━━━━━━━━━━━━━━━━━━━━━━━━━━━━━━━━━━━━━━━\u001b[0m \u001b[32m104.4/104.4 kB\u001b[0m \u001b[31m6.1 MB/s\u001b[0m eta \u001b[36m0:00:00\u001b[0m\n",
            "\u001b[?25h  Preparing metadata (setup.py) ... \u001b[?25l\u001b[?25hdone\n",
            "Requirement already satisfied: chardet in /usr/local/lib/python3.10/dist-packages (from pysrt) (4.0.0)\n",
            "Building wheels for collected packages: pysrt\n",
            "  Building wheel for pysrt (setup.py) ... \u001b[?25l\u001b[?25hdone\n",
            "  Created wheel for pysrt: filename=pysrt-1.1.2-py3-none-any.whl size=13443 sha256=cf3417a9af3c1c742fb8dd7a416037750fd896be5b5ee1efe2233ccf57dafe45\n",
            "  Stored in directory: /root/.cache/pip/wheels/30/7f/e8/55de9a9b07302d9e7fe47c27910e3bea0c48536153e74bd7e6\n",
            "Successfully built pysrt\n",
            "Installing collected packages: pysrt\n",
            "Successfully installed pysrt-1.1.2\n",
            "Collecting pattern\n",
            "  Downloading Pattern-3.6.0.tar.gz (22.2 MB)\n",
            "\u001b[2K     \u001b[90m━━━━━━━━━━━━━━━━━━━━━━━━━━━━━━━━━━━━━━━━\u001b[0m \u001b[32m22.2/22.2 MB\u001b[0m \u001b[31m9.9 MB/s\u001b[0m eta \u001b[36m0:00:00\u001b[0m\n",
            "\u001b[?25h  Preparing metadata (setup.py) ... \u001b[?25l\u001b[?25hdone\n",
            "Requirement already satisfied: future in /usr/local/lib/python3.10/dist-packages (from pattern) (0.18.3)\n",
            "Collecting backports.csv (from pattern)\n",
            "  Downloading backports.csv-1.0.7-py2.py3-none-any.whl (12 kB)\n",
            "Collecting mysqlclient (from pattern)\n",
            "  Downloading mysqlclient-2.2.0.tar.gz (89 kB)\n",
            "\u001b[2K     \u001b[90m━━━━━━━━━━━━━━━━━━━━━━━━━━━━━━━━━━━━━━━━\u001b[0m \u001b[32m89.5/89.5 kB\u001b[0m \u001b[31m8.9 MB/s\u001b[0m eta \u001b[36m0:00:00\u001b[0m\n",
            "\u001b[?25h  Installing build dependencies ... \u001b[?25l\u001b[?25hdone\n",
            "  Getting requirements to build wheel ... \u001b[?25l\u001b[?25hdone\n",
            "  Installing backend dependencies ... \u001b[?25l\u001b[?25hdone\n",
            "  Preparing metadata (pyproject.toml) ... \u001b[?25l\u001b[?25hdone\n",
            "Requirement already satisfied: beautifulsoup4 in /usr/local/lib/python3.10/dist-packages (from pattern) (4.11.2)\n",
            "Requirement already satisfied: lxml in /usr/local/lib/python3.10/dist-packages (from pattern) (4.9.3)\n",
            "Collecting feedparser (from pattern)\n",
            "  Downloading feedparser-6.0.10-py3-none-any.whl (81 kB)\n",
            "\u001b[2K     \u001b[90m━━━━━━━━━━━━━━━━━━━━━━━━━━━━━━━━━━━━━━━━\u001b[0m \u001b[32m81.1/81.1 kB\u001b[0m \u001b[31m7.4 MB/s\u001b[0m eta \u001b[36m0:00:00\u001b[0m\n",
            "\u001b[?25hCollecting pdfminer.six (from pattern)\n",
            "  Downloading pdfminer.six-20221105-py3-none-any.whl (5.6 MB)\n",
            "\u001b[2K     \u001b[90m━━━━━━━━━━━━━━━━━━━━━━━━━━━━━━━━━━━━━━━━\u001b[0m \u001b[32m5.6/5.6 MB\u001b[0m \u001b[31m42.5 MB/s\u001b[0m eta \u001b[36m0:00:00\u001b[0m\n",
            "\u001b[?25hRequirement already satisfied: numpy in /usr/local/lib/python3.10/dist-packages (from pattern) (1.22.4)\n",
            "Requirement already satisfied: scipy in /usr/local/lib/python3.10/dist-packages (from pattern) (1.10.1)\n",
            "Requirement already satisfied: nltk in /usr/local/lib/python3.10/dist-packages (from pattern) (3.8.1)\n",
            "Collecting python-docx (from pattern)\n",
            "  Downloading python-docx-0.8.11.tar.gz (5.6 MB)\n",
            "\u001b[2K     \u001b[90m━━━━━━━━━━━━━━━━━━━━━━━━━━━━━━━━━━━━━━━━\u001b[0m \u001b[32m5.6/5.6 MB\u001b[0m \u001b[31m49.4 MB/s\u001b[0m eta \u001b[36m0:00:00\u001b[0m\n",
            "\u001b[?25h  Preparing metadata (setup.py) ... \u001b[?25l\u001b[?25hdone\n",
            "Collecting cherrypy (from pattern)\n",
            "  Downloading CherryPy-18.8.0-py2.py3-none-any.whl (348 kB)\n",
            "\u001b[2K     \u001b[90m━━━━━━━━━━━━━━━━━━━━━━━━━━━━━━━━━━━━━━\u001b[0m \u001b[32m348.4/348.4 kB\u001b[0m \u001b[31m26.6 MB/s\u001b[0m eta \u001b[36m0:00:00\u001b[0m\n",
            "\u001b[?25hRequirement already satisfied: requests in /usr/local/lib/python3.10/dist-packages (from pattern) (2.27.1)\n",
            "Requirement already satisfied: soupsieve>1.2 in /usr/local/lib/python3.10/dist-packages (from beautifulsoup4->pattern) (2.4.1)\n",
            "Collecting cheroot>=8.2.1 (from cherrypy->pattern)\n",
            "  Downloading cheroot-10.0.0-py3-none-any.whl (101 kB)\n",
            "\u001b[2K     \u001b[90m━━━━━━━━━━━━━━━━━━━━━━━━━━━━━━━━━━━━━━\u001b[0m \u001b[32m101.6/101.6 kB\u001b[0m \u001b[31m10.8 MB/s\u001b[0m eta \u001b[36m0:00:00\u001b[0m\n",
            "\u001b[?25hCollecting portend>=2.1.1 (from cherrypy->pattern)\n",
            "  Downloading portend-3.2.0-py3-none-any.whl (5.3 kB)\n",
            "Requirement already satisfied: more-itertools in /usr/local/lib/python3.10/dist-packages (from cherrypy->pattern) (9.1.0)\n",
            "Collecting zc.lockfile (from cherrypy->pattern)\n",
            "  Downloading zc.lockfile-3.0.post1-py3-none-any.whl (9.8 kB)\n",
            "Collecting jaraco.collections (from cherrypy->pattern)\n",
            "  Downloading jaraco.collections-4.3.0-py3-none-any.whl (11 kB)\n",
            "Collecting sgmllib3k (from feedparser->pattern)\n",
            "  Downloading sgmllib3k-1.0.0.tar.gz (5.8 kB)\n",
            "  Preparing metadata (setup.py) ... \u001b[?25l\u001b[?25hdone\n",
            "Requirement already satisfied: click in /usr/local/lib/python3.10/dist-packages (from nltk->pattern) (8.1.4)\n",
            "Requirement already satisfied: joblib in /usr/local/lib/python3.10/dist-packages (from nltk->pattern) (1.3.1)\n",
            "Requirement already satisfied: regex>=2021.8.3 in /usr/local/lib/python3.10/dist-packages (from nltk->pattern) (2022.10.31)\n",
            "Requirement already satisfied: tqdm in /usr/local/lib/python3.10/dist-packages (from nltk->pattern) (4.65.0)\n",
            "Requirement already satisfied: charset-normalizer>=2.0.0 in /usr/local/lib/python3.10/dist-packages (from pdfminer.six->pattern) (2.0.12)\n",
            "Collecting cryptography>=36.0.0 (from pdfminer.six->pattern)\n",
            "  Downloading cryptography-41.0.2-cp37-abi3-manylinux_2_28_x86_64.whl (4.3 MB)\n",
            "\u001b[2K     \u001b[90m━━━━━━━━━━━━━━━━━━━━━━━━━━━━━━━━━━━━━━━━\u001b[0m \u001b[32m4.3/4.3 MB\u001b[0m \u001b[31m57.6 MB/s\u001b[0m eta \u001b[36m0:00:00\u001b[0m\n",
            "\u001b[?25hRequirement already satisfied: urllib3<1.27,>=1.21.1 in /usr/local/lib/python3.10/dist-packages (from requests->pattern) (1.26.16)\n",
            "Requirement already satisfied: certifi>=2017.4.17 in /usr/local/lib/python3.10/dist-packages (from requests->pattern) (2023.5.7)\n",
            "Requirement already satisfied: idna<4,>=2.5 in /usr/local/lib/python3.10/dist-packages (from requests->pattern) (3.4)\n",
            "Collecting jaraco.functools (from cheroot>=8.2.1->cherrypy->pattern)\n",
            "  Downloading jaraco.functools-3.8.0-py3-none-any.whl (8.2 kB)\n",
            "Requirement already satisfied: cffi>=1.12 in /usr/local/lib/python3.10/dist-packages (from cryptography>=36.0.0->pdfminer.six->pattern) (1.15.1)\n",
            "Collecting tempora>=1.8 (from portend>=2.1.1->cherrypy->pattern)\n",
            "  Downloading tempora-5.5.0-py3-none-any.whl (13 kB)\n",
            "Collecting jaraco.text (from jaraco.collections->cherrypy->pattern)\n",
            "  Downloading jaraco.text-3.11.1-py3-none-any.whl (11 kB)\n",
            "Requirement already satisfied: setuptools in /usr/local/lib/python3.10/dist-packages (from zc.lockfile->cherrypy->pattern) (67.7.2)\n",
            "Requirement already satisfied: pycparser in /usr/local/lib/python3.10/dist-packages (from cffi>=1.12->cryptography>=36.0.0->pdfminer.six->pattern) (2.21)\n",
            "Requirement already satisfied: pytz in /usr/local/lib/python3.10/dist-packages (from tempora>=1.8->portend>=2.1.1->cherrypy->pattern) (2022.7.1)\n",
            "Collecting jaraco.context>=4.1 (from jaraco.text->jaraco.collections->cherrypy->pattern)\n",
            "  Downloading jaraco.context-4.3.0-py3-none-any.whl (5.3 kB)\n",
            "Collecting autocommand (from jaraco.text->jaraco.collections->cherrypy->pattern)\n",
            "  Downloading autocommand-2.2.2-py3-none-any.whl (19 kB)\n",
            "Requirement already satisfied: inflect in /usr/local/lib/python3.10/dist-packages (from jaraco.text->jaraco.collections->cherrypy->pattern) (6.0.5)\n",
            "Requirement already satisfied: pydantic<2,>=1.9.1 in /usr/local/lib/python3.10/dist-packages (from inflect->jaraco.text->jaraco.collections->cherrypy->pattern) (1.10.11)\n",
            "Requirement already satisfied: typing-extensions>=4.2.0 in /usr/local/lib/python3.10/dist-packages (from pydantic<2,>=1.9.1->inflect->jaraco.text->jaraco.collections->cherrypy->pattern) (4.7.1)\n",
            "Building wheels for collected packages: pattern, mysqlclient, python-docx, sgmllib3k\n",
            "  Building wheel for pattern (setup.py) ... \u001b[?25l\u001b[?25hdone\n",
            "  Created wheel for pattern: filename=Pattern-3.6-py3-none-any.whl size=22332702 sha256=daf0973e546007ce785414a611c101349db165890599def5cac795ebeb8f54ba\n",
            "  Stored in directory: /root/.cache/pip/wheels/d1/8f/40/fe23abd593ef60be5bfaf3e02154d3484df42aa947bbf4d499\n",
            "  Building wheel for mysqlclient (pyproject.toml) ... \u001b[?25l\u001b[?25hdone\n",
            "  Created wheel for mysqlclient: filename=mysqlclient-2.2.0-cp310-cp310-linux_x86_64.whl size=127633 sha256=90acd1b5809be1548dbc172252ad09ee088b216672439e8f1009a4462b209773\n",
            "  Stored in directory: /root/.cache/pip/wheels/a4/f8/fd/0399687c0abd03c10c975ed56c692fcd3d0fb80440b5a661f1\n",
            "  Building wheel for python-docx (setup.py) ... \u001b[?25l\u001b[?25hdone\n",
            "  Created wheel for python-docx: filename=python_docx-0.8.11-py3-none-any.whl size=184491 sha256=8683493d7d9c741cfb7c74c4d6ebf28333c928c7dc3a9f4a95c4b5892aefa3b9\n",
            "  Stored in directory: /root/.cache/pip/wheels/80/27/06/837436d4c3bd989b957a91679966f207bfd71d358d63a8194d\n",
            "  Building wheel for sgmllib3k (setup.py) ... \u001b[?25l\u001b[?25hdone\n",
            "  Created wheel for sgmllib3k: filename=sgmllib3k-1.0.0-py3-none-any.whl size=6046 sha256=48efac711f0a53a5811b31a75e2833916cb71f673c3f473266573f837c66a242\n",
            "  Stored in directory: /root/.cache/pip/wheels/f0/69/93/a47e9d621be168e9e33c7ce60524393c0b92ae83cf6c6e89c5\n",
            "Successfully built pattern mysqlclient python-docx sgmllib3k\n",
            "Installing collected packages: sgmllib3k, backports.csv, zc.lockfile, python-docx, mysqlclient, jaraco.functools, jaraco.context, feedparser, autocommand, tempora, cryptography, cheroot, portend, pdfminer.six, jaraco.text, jaraco.collections, cherrypy, pattern\n",
            "Successfully installed autocommand-2.2.2 backports.csv-1.0.7 cheroot-10.0.0 cherrypy-18.8.0 cryptography-41.0.2 feedparser-6.0.10 jaraco.collections-4.3.0 jaraco.context-4.3.0 jaraco.functools-3.8.0 jaraco.text-3.11.1 mysqlclient-2.2.0 pattern-3.6 pdfminer.six-20221105 portend-3.2.0 python-docx-0.8.11 sgmllib3k-1.0.0 tempora-5.5.0 zc.lockfile-3.0.post1\n"
          ]
        },
        {
          "output_type": "error",
          "ename": "ImportError",
          "evalue": "ignored",
          "traceback": [
            "\u001b[0;31m---------------------------------------------------------------------------\u001b[0m",
            "\u001b[0;31mImportError\u001b[0m                               Traceback (most recent call last)",
            "\u001b[0;32m<ipython-input-1-b50c3d4d48bf>\u001b[0m in \u001b[0;36m<cell line: 26>\u001b[0;34m()\u001b[0m\n\u001b[1;32m     24\u001b[0m \u001b[0;34m\u001b[0m\u001b[0m\n\u001b[1;32m     25\u001b[0m \u001b[0;32mfrom\u001b[0m \u001b[0msklearn\u001b[0m\u001b[0;34m.\u001b[0m\u001b[0mfeature_extraction\u001b[0m\u001b[0;34m.\u001b[0m\u001b[0mtext\u001b[0m \u001b[0;32mimport\u001b[0m \u001b[0mCountVectorizer\u001b[0m\u001b[0;34m\u001b[0m\u001b[0;34m\u001b[0m\u001b[0m\n\u001b[0;32m---> 26\u001b[0;31m \u001b[0;32mfrom\u001b[0m \u001b[0msklearn\u001b[0m\u001b[0;34m.\u001b[0m\u001b[0mfeature_extraction\u001b[0m\u001b[0;34m.\u001b[0m\u001b[0mtext\u001b[0m \u001b[0;32mimport\u001b[0m \u001b[0mTfidfVectorize\u001b[0m\u001b[0;34m\u001b[0m\u001b[0;34m\u001b[0m\u001b[0m\n\u001b[0m\u001b[1;32m     27\u001b[0m \u001b[0;34m\u001b[0m\u001b[0m\n\u001b[1;32m     28\u001b[0m \u001b[0;32mfrom\u001b[0m \u001b[0mgensim\u001b[0m\u001b[0;34m.\u001b[0m\u001b[0mmodels\u001b[0m \u001b[0;32mimport\u001b[0m \u001b[0mWord2Vec\u001b[0m\u001b[0;34m\u001b[0m\u001b[0;34m\u001b[0m\u001b[0m\n",
            "\u001b[0;31mImportError\u001b[0m: cannot import name 'TfidfVectorize' from 'sklearn.feature_extraction.text' (/usr/local/lib/python3.10/dist-packages/sklearn/feature_extraction/text.py)",
            "",
            "\u001b[0;31m---------------------------------------------------------------------------\u001b[0;32m\nNOTE: If your import is failing due to a missing package, you can\nmanually install dependencies using either !pip or !apt.\n\nTo view examples of installing some common dependencies, click the\n\"Open Examples\" button below.\n\u001b[0;31m---------------------------------------------------------------------------\u001b[0m\n"
          ],
          "errorDetails": {
            "actions": [
              {
                "action": "open_url",
                "actionText": "Open Examples",
                "url": "/notebooks/snippets/importing_libraries.ipynb"
              }
            ]
          }
        }
      ],
      "source": [
        "!pip install pysrt\n",
        "\n",
        "import pandas as pd\n",
        "import os\n",
        "import pysrt\n",
        "import glob\n",
        "import re\n",
        "\n",
        "import seaborn as sns\n",
        "\n",
        "!pip install pattern\n",
        "import pattern\n",
        "from pattern.en import lemma, lexeme\n",
        "\n",
        "# импортируем библиотеку nltk\n",
        "import nltk\n",
        "# Импортируем метод word_tokenize из библиотеки nltk\n",
        "from nltk.tokenize import word_tokenize\n",
        "\n",
        "# Импортируем метод stopwords из библиотеки nltk\n",
        "from nltk.corpus import stopwords\n",
        "\n",
        "from sklearn.model_selection import train_test_split\n",
        "\n",
        "from sklearn.feature_extraction.text import CountVectorizer\n",
        "from sklearn.feature_extraction.text import TfidfVectorize\n",
        "\n",
        "from gensim.models import Word2Vec\n",
        "import numpy as np\n",
        "\n",
        "import sklearn as sk\n",
        "from sklearn.linear_model import LogisticRegression\n",
        "from sklearn import svm\n",
        "from sklearn.ensemble import RandomForestClassifier\n",
        "from sklearn.neural_network import MLPClassifier\n",
        "\n",
        "from sklearn.naive_bayes import GaussianNB\n",
        "from sklearn.linear_model import SGDClassifier\n",
        "from sklearn.naive_bayes import MultinomialNB\n",
        "from sklearn.neighbors import KNeighborsClassifier\n",
        "\n",
        "from sklearn.model_selection import cross_val_score, RandomizedSearchCV, GridSearchCV, train_test_split\n",
        "\n",
        "from sklearn.metrics import f1_score"
      ]
    },
    {
      "cell_type": "code",
      "source": [
        "# folder path\n",
        "dir_path = r'/content/drive/MyDrive/Сабы'\n",
        "\n",
        "# list to store files\n",
        "res = []\n",
        "\n",
        "# Iterate directory\n",
        "for path in os.listdir(dir_path):\n",
        "    # check if current path is a file\n",
        "    if os.path.isfile(os.path.join(dir_path, path)):\n",
        "      res.append(path.rpartition('.')[0])\n",
        "\n",
        "print(res)"
      ],
      "metadata": {
        "id": "5TEynPLKd0AY"
      },
      "execution_count": null,
      "outputs": []
    },
    {
      "cell_type": "code",
      "source": [
        "dir_path = r'/content/drive/MyDrive/Сабы'\n",
        "\n",
        "# list to store files\n",
        "txts = []\n",
        "\n",
        "for file in os.listdir(dir_path):\n",
        "  fil = pysrt.open(os.path.join(dir_path, file), encoding='iso-8859-1')\n",
        "  txt = fil.text\n",
        "  txts.append(txt)"
      ],
      "metadata": {
        "id": "5-Q8aOf7YjV7"
      },
      "execution_count": null,
      "outputs": []
    },
    {
      "cell_type": "code",
      "source": [
        "сolumns = {'Titles':res, 'Texts':txts}\n",
        "df1 = pd.DataFrame(сolumns)\n",
        "df1\n"
      ],
      "metadata": {
        "colab": {
          "base_uri": "https://localhost:8080/",
          "height": 423
        },
        "id": "yaYiUA-ne7Kp",
        "outputId": "212cf4f5-3bd5-4467-c587-fb8377ddab5e"
      },
      "execution_count": null,
      "outputs": [
        {
          "output_type": "execute_result",
          "data": {
            "text/plain": [
              "                                                Titles  \\\n",
              "0                       Crown, The S01E03 - Windsor.en   \n",
              "1                    Suits.Episode 4- No Puedo Hacerlo   \n",
              "2         Crown, The S01E07 - Scientia Potentia Est.en   \n",
              "3    Crazy4TV.com - Suits.S06E06.720p.BluRay.x265.H...   \n",
              "4      Suits.S01E05.1080p.BluRay.AAC5.1.x265-DTG.02.EN   \n",
              "..                                                 ...   \n",
              "273                              Mona_Lisa_Smile(2003)   \n",
              "274                         The_greatest_showman(2017)   \n",
              "275                                   Inside_out(2015)   \n",
              "276                                   Cinderella(1950)   \n",
              "277                     Kubo_and_the_two_strings(2016)   \n",
              "\n",
              "                                                 Texts  \n",
              "0    <i> Gina! Gina! Ella!</i>\\n-Gina! Carina! Ella...  \n",
              "1    You took this case\\nwithout running it by me.\\...  \n",
              "2    Your Majesty.\\nSo, it is\\nalways the Sovereign...  \n",
              "3    (HARVEY READING)\\nI've been after Sutter\\nfor ...  \n",
              "4    Ross. Triple double. Courtesy\\nof America's fa...  \n",
              "..                                                 ...  \n",
              "273  All her life she had wanted\\nto teach at Welle...  \n",
              "274  âª Whoa âª\\nâª Whoa âª\\nâª Whoa âª\\nâª ...  \n",
              "275  Advertise your product or brand here<br/>conta...  \n",
              "276  Cinderella\\nYou're as lovely as your name\\nCin...  \n",
              "277  If you must blink, do it now.\\nPay careful att...  \n",
              "\n",
              "[278 rows x 2 columns]"
            ],
            "text/html": [
              "\n",
              "  <div id=\"df-f32541e6-76af-4812-a3e3-d61303cef929\">\n",
              "    <div class=\"colab-df-container\">\n",
              "      <div>\n",
              "<style scoped>\n",
              "    .dataframe tbody tr th:only-of-type {\n",
              "        vertical-align: middle;\n",
              "    }\n",
              "\n",
              "    .dataframe tbody tr th {\n",
              "        vertical-align: top;\n",
              "    }\n",
              "\n",
              "    .dataframe thead th {\n",
              "        text-align: right;\n",
              "    }\n",
              "</style>\n",
              "<table border=\"1\" class=\"dataframe\">\n",
              "  <thead>\n",
              "    <tr style=\"text-align: right;\">\n",
              "      <th></th>\n",
              "      <th>Titles</th>\n",
              "      <th>Texts</th>\n",
              "    </tr>\n",
              "  </thead>\n",
              "  <tbody>\n",
              "    <tr>\n",
              "      <th>0</th>\n",
              "      <td>Crown, The S01E03 - Windsor.en</td>\n",
              "      <td>&lt;i&gt; Gina! Gina! Ella!&lt;/i&gt;\\n-Gina! Carina! Ella...</td>\n",
              "    </tr>\n",
              "    <tr>\n",
              "      <th>1</th>\n",
              "      <td>Suits.Episode 4- No Puedo Hacerlo</td>\n",
              "      <td>You took this case\\nwithout running it by me.\\...</td>\n",
              "    </tr>\n",
              "    <tr>\n",
              "      <th>2</th>\n",
              "      <td>Crown, The S01E07 - Scientia Potentia Est.en</td>\n",
              "      <td>Your Majesty.\\nSo, it is\\nalways the Sovereign...</td>\n",
              "    </tr>\n",
              "    <tr>\n",
              "      <th>3</th>\n",
              "      <td>Crazy4TV.com - Suits.S06E06.720p.BluRay.x265.H...</td>\n",
              "      <td>(HARVEY READING)\\nI've been after Sutter\\nfor ...</td>\n",
              "    </tr>\n",
              "    <tr>\n",
              "      <th>4</th>\n",
              "      <td>Suits.S01E05.1080p.BluRay.AAC5.1.x265-DTG.02.EN</td>\n",
              "      <td>Ross. Triple double. Courtesy\\nof America's fa...</td>\n",
              "    </tr>\n",
              "    <tr>\n",
              "      <th>...</th>\n",
              "      <td>...</td>\n",
              "      <td>...</td>\n",
              "    </tr>\n",
              "    <tr>\n",
              "      <th>273</th>\n",
              "      <td>Mona_Lisa_Smile(2003)</td>\n",
              "      <td>All her life she had wanted\\nto teach at Welle...</td>\n",
              "    </tr>\n",
              "    <tr>\n",
              "      <th>274</th>\n",
              "      <td>The_greatest_showman(2017)</td>\n",
              "      <td>âª Whoa âª\\nâª Whoa âª\\nâª Whoa âª\\nâª ...</td>\n",
              "    </tr>\n",
              "    <tr>\n",
              "      <th>275</th>\n",
              "      <td>Inside_out(2015)</td>\n",
              "      <td>Advertise your product or brand here&lt;br/&gt;conta...</td>\n",
              "    </tr>\n",
              "    <tr>\n",
              "      <th>276</th>\n",
              "      <td>Cinderella(1950)</td>\n",
              "      <td>Cinderella\\nYou're as lovely as your name\\nCin...</td>\n",
              "    </tr>\n",
              "    <tr>\n",
              "      <th>277</th>\n",
              "      <td>Kubo_and_the_two_strings(2016)</td>\n",
              "      <td>If you must blink, do it now.\\nPay careful att...</td>\n",
              "    </tr>\n",
              "  </tbody>\n",
              "</table>\n",
              "<p>278 rows × 2 columns</p>\n",
              "</div>\n",
              "      <button class=\"colab-df-convert\" onclick=\"convertToInteractive('df-f32541e6-76af-4812-a3e3-d61303cef929')\"\n",
              "              title=\"Convert this dataframe to an interactive table.\"\n",
              "              style=\"display:none;\">\n",
              "        \n",
              "  <svg xmlns=\"http://www.w3.org/2000/svg\" height=\"24px\"viewBox=\"0 0 24 24\"\n",
              "       width=\"24px\">\n",
              "    <path d=\"M0 0h24v24H0V0z\" fill=\"none\"/>\n",
              "    <path d=\"M18.56 5.44l.94 2.06.94-2.06 2.06-.94-2.06-.94-.94-2.06-.94 2.06-2.06.94zm-11 1L8.5 8.5l.94-2.06 2.06-.94-2.06-.94L8.5 2.5l-.94 2.06-2.06.94zm10 10l.94 2.06.94-2.06 2.06-.94-2.06-.94-.94-2.06-.94 2.06-2.06.94z\"/><path d=\"M17.41 7.96l-1.37-1.37c-.4-.4-.92-.59-1.43-.59-.52 0-1.04.2-1.43.59L10.3 9.45l-7.72 7.72c-.78.78-.78 2.05 0 2.83L4 21.41c.39.39.9.59 1.41.59.51 0 1.02-.2 1.41-.59l7.78-7.78 2.81-2.81c.8-.78.8-2.07 0-2.86zM5.41 20L4 18.59l7.72-7.72 1.47 1.35L5.41 20z\"/>\n",
              "  </svg>\n",
              "      </button>\n",
              "      \n",
              "  <style>\n",
              "    .colab-df-container {\n",
              "      display:flex;\n",
              "      flex-wrap:wrap;\n",
              "      gap: 12px;\n",
              "    }\n",
              "\n",
              "    .colab-df-convert {\n",
              "      background-color: #E8F0FE;\n",
              "      border: none;\n",
              "      border-radius: 50%;\n",
              "      cursor: pointer;\n",
              "      display: none;\n",
              "      fill: #1967D2;\n",
              "      height: 32px;\n",
              "      padding: 0 0 0 0;\n",
              "      width: 32px;\n",
              "    }\n",
              "\n",
              "    .colab-df-convert:hover {\n",
              "      background-color: #E2EBFA;\n",
              "      box-shadow: 0px 1px 2px rgba(60, 64, 67, 0.3), 0px 1px 3px 1px rgba(60, 64, 67, 0.15);\n",
              "      fill: #174EA6;\n",
              "    }\n",
              "\n",
              "    [theme=dark] .colab-df-convert {\n",
              "      background-color: #3B4455;\n",
              "      fill: #D2E3FC;\n",
              "    }\n",
              "\n",
              "    [theme=dark] .colab-df-convert:hover {\n",
              "      background-color: #434B5C;\n",
              "      box-shadow: 0px 1px 3px 1px rgba(0, 0, 0, 0.15);\n",
              "      filter: drop-shadow(0px 1px 2px rgba(0, 0, 0, 0.3));\n",
              "      fill: #FFFFFF;\n",
              "    }\n",
              "  </style>\n",
              "\n",
              "      <script>\n",
              "        const buttonEl =\n",
              "          document.querySelector('#df-f32541e6-76af-4812-a3e3-d61303cef929 button.colab-df-convert');\n",
              "        buttonEl.style.display =\n",
              "          google.colab.kernel.accessAllowed ? 'block' : 'none';\n",
              "\n",
              "        async function convertToInteractive(key) {\n",
              "          const element = document.querySelector('#df-f32541e6-76af-4812-a3e3-d61303cef929');\n",
              "          const dataTable =\n",
              "            await google.colab.kernel.invokeFunction('convertToInteractive',\n",
              "                                                     [key], {});\n",
              "          if (!dataTable) return;\n",
              "\n",
              "          const docLinkHtml = 'Like what you see? Visit the ' +\n",
              "            '<a target=\"_blank\" href=https://colab.research.google.com/notebooks/data_table.ipynb>data table notebook</a>'\n",
              "            + ' to learn more about interactive tables.';\n",
              "          element.innerHTML = '';\n",
              "          dataTable['output_type'] = 'display_data';\n",
              "          await google.colab.output.renderOutput(dataTable, element);\n",
              "          const docLink = document.createElement('div');\n",
              "          docLink.innerHTML = docLinkHtml;\n",
              "          element.appendChild(docLink);\n",
              "        }\n",
              "      </script>\n",
              "    </div>\n",
              "  </div>\n",
              "  "
            ]
          },
          "metadata": {},
          "execution_count": 7
        }
      ]
    },
    {
      "cell_type": "code",
      "source": [
        "df2= pd.read_excel('/content/drive/MyDrive/DS/movies_labels.xlsx')\n",
        "df2\n"
      ],
      "metadata": {
        "colab": {
          "base_uri": "https://localhost:8080/",
          "height": 423
        },
        "id": "8K1zPRirfjDE",
        "outputId": "78074424-f6b7-4bd6-aaf9-e9b6c4be17d3"
      },
      "execution_count": null,
      "outputs": [
        {
          "output_type": "execute_result",
          "data": {
            "text/plain": [
              "      id                             Movie   Level\n",
              "0      0         10_Cloverfield_lane(2016)      B1\n",
              "1      1  10_things_I_hate_about_you(1999)      B1\n",
              "2      2              A_knights_tale(2001)      B2\n",
              "3      3              A_star_is_born(2018)      B2\n",
              "4      4                     Aladdin(1992)  A2/A2+\n",
              "..   ...                               ...     ...\n",
              "236  236                     Matilda(2022)      C1\n",
              "237  237                      Bullet train      B1\n",
              "238  238            Thor: love and thunder      B2\n",
              "239  239                         Lightyear      B2\n",
              "240  240                        The Grinch      B1\n",
              "\n",
              "[241 rows x 3 columns]"
            ],
            "text/html": [
              "\n",
              "  <div id=\"df-1c6ee4a6-0a7a-44ea-a538-13b277d9e3d3\">\n",
              "    <div class=\"colab-df-container\">\n",
              "      <div>\n",
              "<style scoped>\n",
              "    .dataframe tbody tr th:only-of-type {\n",
              "        vertical-align: middle;\n",
              "    }\n",
              "\n",
              "    .dataframe tbody tr th {\n",
              "        vertical-align: top;\n",
              "    }\n",
              "\n",
              "    .dataframe thead th {\n",
              "        text-align: right;\n",
              "    }\n",
              "</style>\n",
              "<table border=\"1\" class=\"dataframe\">\n",
              "  <thead>\n",
              "    <tr style=\"text-align: right;\">\n",
              "      <th></th>\n",
              "      <th>id</th>\n",
              "      <th>Movie</th>\n",
              "      <th>Level</th>\n",
              "    </tr>\n",
              "  </thead>\n",
              "  <tbody>\n",
              "    <tr>\n",
              "      <th>0</th>\n",
              "      <td>0</td>\n",
              "      <td>10_Cloverfield_lane(2016)</td>\n",
              "      <td>B1</td>\n",
              "    </tr>\n",
              "    <tr>\n",
              "      <th>1</th>\n",
              "      <td>1</td>\n",
              "      <td>10_things_I_hate_about_you(1999)</td>\n",
              "      <td>B1</td>\n",
              "    </tr>\n",
              "    <tr>\n",
              "      <th>2</th>\n",
              "      <td>2</td>\n",
              "      <td>A_knights_tale(2001)</td>\n",
              "      <td>B2</td>\n",
              "    </tr>\n",
              "    <tr>\n",
              "      <th>3</th>\n",
              "      <td>3</td>\n",
              "      <td>A_star_is_born(2018)</td>\n",
              "      <td>B2</td>\n",
              "    </tr>\n",
              "    <tr>\n",
              "      <th>4</th>\n",
              "      <td>4</td>\n",
              "      <td>Aladdin(1992)</td>\n",
              "      <td>A2/A2+</td>\n",
              "    </tr>\n",
              "    <tr>\n",
              "      <th>...</th>\n",
              "      <td>...</td>\n",
              "      <td>...</td>\n",
              "      <td>...</td>\n",
              "    </tr>\n",
              "    <tr>\n",
              "      <th>236</th>\n",
              "      <td>236</td>\n",
              "      <td>Matilda(2022)</td>\n",
              "      <td>C1</td>\n",
              "    </tr>\n",
              "    <tr>\n",
              "      <th>237</th>\n",
              "      <td>237</td>\n",
              "      <td>Bullet train</td>\n",
              "      <td>B1</td>\n",
              "    </tr>\n",
              "    <tr>\n",
              "      <th>238</th>\n",
              "      <td>238</td>\n",
              "      <td>Thor: love and thunder</td>\n",
              "      <td>B2</td>\n",
              "    </tr>\n",
              "    <tr>\n",
              "      <th>239</th>\n",
              "      <td>239</td>\n",
              "      <td>Lightyear</td>\n",
              "      <td>B2</td>\n",
              "    </tr>\n",
              "    <tr>\n",
              "      <th>240</th>\n",
              "      <td>240</td>\n",
              "      <td>The Grinch</td>\n",
              "      <td>B1</td>\n",
              "    </tr>\n",
              "  </tbody>\n",
              "</table>\n",
              "<p>241 rows × 3 columns</p>\n",
              "</div>\n",
              "      <button class=\"colab-df-convert\" onclick=\"convertToInteractive('df-1c6ee4a6-0a7a-44ea-a538-13b277d9e3d3')\"\n",
              "              title=\"Convert this dataframe to an interactive table.\"\n",
              "              style=\"display:none;\">\n",
              "        \n",
              "  <svg xmlns=\"http://www.w3.org/2000/svg\" height=\"24px\"viewBox=\"0 0 24 24\"\n",
              "       width=\"24px\">\n",
              "    <path d=\"M0 0h24v24H0V0z\" fill=\"none\"/>\n",
              "    <path d=\"M18.56 5.44l.94 2.06.94-2.06 2.06-.94-2.06-.94-.94-2.06-.94 2.06-2.06.94zm-11 1L8.5 8.5l.94-2.06 2.06-.94-2.06-.94L8.5 2.5l-.94 2.06-2.06.94zm10 10l.94 2.06.94-2.06 2.06-.94-2.06-.94-.94-2.06-.94 2.06-2.06.94z\"/><path d=\"M17.41 7.96l-1.37-1.37c-.4-.4-.92-.59-1.43-.59-.52 0-1.04.2-1.43.59L10.3 9.45l-7.72 7.72c-.78.78-.78 2.05 0 2.83L4 21.41c.39.39.9.59 1.41.59.51 0 1.02-.2 1.41-.59l7.78-7.78 2.81-2.81c.8-.78.8-2.07 0-2.86zM5.41 20L4 18.59l7.72-7.72 1.47 1.35L5.41 20z\"/>\n",
              "  </svg>\n",
              "      </button>\n",
              "      \n",
              "  <style>\n",
              "    .colab-df-container {\n",
              "      display:flex;\n",
              "      flex-wrap:wrap;\n",
              "      gap: 12px;\n",
              "    }\n",
              "\n",
              "    .colab-df-convert {\n",
              "      background-color: #E8F0FE;\n",
              "      border: none;\n",
              "      border-radius: 50%;\n",
              "      cursor: pointer;\n",
              "      display: none;\n",
              "      fill: #1967D2;\n",
              "      height: 32px;\n",
              "      padding: 0 0 0 0;\n",
              "      width: 32px;\n",
              "    }\n",
              "\n",
              "    .colab-df-convert:hover {\n",
              "      background-color: #E2EBFA;\n",
              "      box-shadow: 0px 1px 2px rgba(60, 64, 67, 0.3), 0px 1px 3px 1px rgba(60, 64, 67, 0.15);\n",
              "      fill: #174EA6;\n",
              "    }\n",
              "\n",
              "    [theme=dark] .colab-df-convert {\n",
              "      background-color: #3B4455;\n",
              "      fill: #D2E3FC;\n",
              "    }\n",
              "\n",
              "    [theme=dark] .colab-df-convert:hover {\n",
              "      background-color: #434B5C;\n",
              "      box-shadow: 0px 1px 3px 1px rgba(0, 0, 0, 0.15);\n",
              "      filter: drop-shadow(0px 1px 2px rgba(0, 0, 0, 0.3));\n",
              "      fill: #FFFFFF;\n",
              "    }\n",
              "  </style>\n",
              "\n",
              "      <script>\n",
              "        const buttonEl =\n",
              "          document.querySelector('#df-1c6ee4a6-0a7a-44ea-a538-13b277d9e3d3 button.colab-df-convert');\n",
              "        buttonEl.style.display =\n",
              "          google.colab.kernel.accessAllowed ? 'block' : 'none';\n",
              "\n",
              "        async function convertToInteractive(key) {\n",
              "          const element = document.querySelector('#df-1c6ee4a6-0a7a-44ea-a538-13b277d9e3d3');\n",
              "          const dataTable =\n",
              "            await google.colab.kernel.invokeFunction('convertToInteractive',\n",
              "                                                     [key], {});\n",
              "          if (!dataTable) return;\n",
              "\n",
              "          const docLinkHtml = 'Like what you see? Visit the ' +\n",
              "            '<a target=\"_blank\" href=https://colab.research.google.com/notebooks/data_table.ipynb>data table notebook</a>'\n",
              "            + ' to learn more about interactive tables.';\n",
              "          element.innerHTML = '';\n",
              "          dataTable['output_type'] = 'display_data';\n",
              "          await google.colab.output.renderOutput(dataTable, element);\n",
              "          const docLink = document.createElement('div');\n",
              "          docLink.innerHTML = docLinkHtml;\n",
              "          element.appendChild(docLink);\n",
              "        }\n",
              "      </script>\n",
              "    </div>\n",
              "  </div>\n",
              "  "
            ]
          },
          "metadata": {},
          "execution_count": 8
        }
      ]
    },
    {
      "cell_type": "code",
      "source": [
        "df = df2.merge(df1, left_on = 'Movie', right_on = 'Titles', how = 'inner')\n",
        "df = df.drop(['Titles', 'id'], axis= 1)"
      ],
      "metadata": {
        "id": "G55tqw6bhk27"
      },
      "execution_count": null,
      "outputs": []
    },
    {
      "cell_type": "code",
      "source": [
        "df"
      ],
      "metadata": {
        "colab": {
          "base_uri": "https://localhost:8080/",
          "height": 423
        },
        "id": "BuqimojIjANo",
        "outputId": "1d0c4fbe-d142-4918-9421-a64e8f9827d6"
      },
      "execution_count": null,
      "outputs": [
        {
          "output_type": "execute_result",
          "data": {
            "text/plain": [
              "                                Movie   Level  \\\n",
              "0           10_Cloverfield_lane(2016)      B1   \n",
              "1    10_things_I_hate_about_you(1999)      B1   \n",
              "2                A_knights_tale(2001)      B2   \n",
              "3                A_star_is_born(2018)      B2   \n",
              "4                       Aladdin(1992)  A2/A2+   \n",
              "..                                ...     ...   \n",
              "228   Suits.S03E06.720p.HDTV.x264-mSD      C1   \n",
              "229        Suits.S03E07.HDTV.x264-mSD      C1   \n",
              "230   Suits.S03E08.480p.HDTV.x264-mSD      C1   \n",
              "231   Suits.S03E09.480p.HDTV.x264-mSD      C1   \n",
              "232        Suits.S03E10.HDTV.x264-mSD      C1   \n",
              "\n",
              "                                                 Texts  \n",
              "0    <font color=\"#ffff80\"><b>Fixed & Synced by boz...  \n",
              "1    Hey!\\nI'll be right with you.\\nSo, Cameron. He...  \n",
              "2    Resync: Xenzai[NEF]\\nRETAIL\\nShould we help hi...  \n",
              "3    - <i><font color=\"#ffffff\"> Synced and correct...  \n",
              "4    <i>Oh, I come from a land\\nFrom a faraway plac...  \n",
              "..                                                 ...  \n",
              "228  I lost Ava her company.\\nI assume my deal\\nwit...  \n",
              "229  Previously on\\n<i>Suits...</i>\\nIt's going up\\...  \n",
              "230  I get Ava Hessington acquitted,\\nDarby backs m...  \n",
              "231  Previously on\\n<i>Suits...</i>\\nI'm bonding\\nw...  \n",
              "232  Previously on\\n<i>Suits...</i>\\nThis is a copy...  \n",
              "\n",
              "[233 rows x 3 columns]"
            ],
            "text/html": [
              "\n",
              "  <div id=\"df-b662a96e-1fda-42ab-bcd2-ee438ff2e61d\">\n",
              "    <div class=\"colab-df-container\">\n",
              "      <div>\n",
              "<style scoped>\n",
              "    .dataframe tbody tr th:only-of-type {\n",
              "        vertical-align: middle;\n",
              "    }\n",
              "\n",
              "    .dataframe tbody tr th {\n",
              "        vertical-align: top;\n",
              "    }\n",
              "\n",
              "    .dataframe thead th {\n",
              "        text-align: right;\n",
              "    }\n",
              "</style>\n",
              "<table border=\"1\" class=\"dataframe\">\n",
              "  <thead>\n",
              "    <tr style=\"text-align: right;\">\n",
              "      <th></th>\n",
              "      <th>Movie</th>\n",
              "      <th>Level</th>\n",
              "      <th>Texts</th>\n",
              "    </tr>\n",
              "  </thead>\n",
              "  <tbody>\n",
              "    <tr>\n",
              "      <th>0</th>\n",
              "      <td>10_Cloverfield_lane(2016)</td>\n",
              "      <td>B1</td>\n",
              "      <td>&lt;font color=\"#ffff80\"&gt;&lt;b&gt;Fixed &amp; Synced by boz...</td>\n",
              "    </tr>\n",
              "    <tr>\n",
              "      <th>1</th>\n",
              "      <td>10_things_I_hate_about_you(1999)</td>\n",
              "      <td>B1</td>\n",
              "      <td>Hey!\\nI'll be right with you.\\nSo, Cameron. He...</td>\n",
              "    </tr>\n",
              "    <tr>\n",
              "      <th>2</th>\n",
              "      <td>A_knights_tale(2001)</td>\n",
              "      <td>B2</td>\n",
              "      <td>Resync: Xenzai[NEF]\\nRETAIL\\nShould we help hi...</td>\n",
              "    </tr>\n",
              "    <tr>\n",
              "      <th>3</th>\n",
              "      <td>A_star_is_born(2018)</td>\n",
              "      <td>B2</td>\n",
              "      <td>- &lt;i&gt;&lt;font color=\"#ffffff\"&gt; Synced and correct...</td>\n",
              "    </tr>\n",
              "    <tr>\n",
              "      <th>4</th>\n",
              "      <td>Aladdin(1992)</td>\n",
              "      <td>A2/A2+</td>\n",
              "      <td>&lt;i&gt;Oh, I come from a land\\nFrom a faraway plac...</td>\n",
              "    </tr>\n",
              "    <tr>\n",
              "      <th>...</th>\n",
              "      <td>...</td>\n",
              "      <td>...</td>\n",
              "      <td>...</td>\n",
              "    </tr>\n",
              "    <tr>\n",
              "      <th>228</th>\n",
              "      <td>Suits.S03E06.720p.HDTV.x264-mSD</td>\n",
              "      <td>C1</td>\n",
              "      <td>I lost Ava her company.\\nI assume my deal\\nwit...</td>\n",
              "    </tr>\n",
              "    <tr>\n",
              "      <th>229</th>\n",
              "      <td>Suits.S03E07.HDTV.x264-mSD</td>\n",
              "      <td>C1</td>\n",
              "      <td>Previously on\\n&lt;i&gt;Suits...&lt;/i&gt;\\nIt's going up\\...</td>\n",
              "    </tr>\n",
              "    <tr>\n",
              "      <th>230</th>\n",
              "      <td>Suits.S03E08.480p.HDTV.x264-mSD</td>\n",
              "      <td>C1</td>\n",
              "      <td>I get Ava Hessington acquitted,\\nDarby backs m...</td>\n",
              "    </tr>\n",
              "    <tr>\n",
              "      <th>231</th>\n",
              "      <td>Suits.S03E09.480p.HDTV.x264-mSD</td>\n",
              "      <td>C1</td>\n",
              "      <td>Previously on\\n&lt;i&gt;Suits...&lt;/i&gt;\\nI'm bonding\\nw...</td>\n",
              "    </tr>\n",
              "    <tr>\n",
              "      <th>232</th>\n",
              "      <td>Suits.S03E10.HDTV.x264-mSD</td>\n",
              "      <td>C1</td>\n",
              "      <td>Previously on\\n&lt;i&gt;Suits...&lt;/i&gt;\\nThis is a copy...</td>\n",
              "    </tr>\n",
              "  </tbody>\n",
              "</table>\n",
              "<p>233 rows × 3 columns</p>\n",
              "</div>\n",
              "      <button class=\"colab-df-convert\" onclick=\"convertToInteractive('df-b662a96e-1fda-42ab-bcd2-ee438ff2e61d')\"\n",
              "              title=\"Convert this dataframe to an interactive table.\"\n",
              "              style=\"display:none;\">\n",
              "        \n",
              "  <svg xmlns=\"http://www.w3.org/2000/svg\" height=\"24px\"viewBox=\"0 0 24 24\"\n",
              "       width=\"24px\">\n",
              "    <path d=\"M0 0h24v24H0V0z\" fill=\"none\"/>\n",
              "    <path d=\"M18.56 5.44l.94 2.06.94-2.06 2.06-.94-2.06-.94-.94-2.06-.94 2.06-2.06.94zm-11 1L8.5 8.5l.94-2.06 2.06-.94-2.06-.94L8.5 2.5l-.94 2.06-2.06.94zm10 10l.94 2.06.94-2.06 2.06-.94-2.06-.94-.94-2.06-.94 2.06-2.06.94z\"/><path d=\"M17.41 7.96l-1.37-1.37c-.4-.4-.92-.59-1.43-.59-.52 0-1.04.2-1.43.59L10.3 9.45l-7.72 7.72c-.78.78-.78 2.05 0 2.83L4 21.41c.39.39.9.59 1.41.59.51 0 1.02-.2 1.41-.59l7.78-7.78 2.81-2.81c.8-.78.8-2.07 0-2.86zM5.41 20L4 18.59l7.72-7.72 1.47 1.35L5.41 20z\"/>\n",
              "  </svg>\n",
              "      </button>\n",
              "      \n",
              "  <style>\n",
              "    .colab-df-container {\n",
              "      display:flex;\n",
              "      flex-wrap:wrap;\n",
              "      gap: 12px;\n",
              "    }\n",
              "\n",
              "    .colab-df-convert {\n",
              "      background-color: #E8F0FE;\n",
              "      border: none;\n",
              "      border-radius: 50%;\n",
              "      cursor: pointer;\n",
              "      display: none;\n",
              "      fill: #1967D2;\n",
              "      height: 32px;\n",
              "      padding: 0 0 0 0;\n",
              "      width: 32px;\n",
              "    }\n",
              "\n",
              "    .colab-df-convert:hover {\n",
              "      background-color: #E2EBFA;\n",
              "      box-shadow: 0px 1px 2px rgba(60, 64, 67, 0.3), 0px 1px 3px 1px rgba(60, 64, 67, 0.15);\n",
              "      fill: #174EA6;\n",
              "    }\n",
              "\n",
              "    [theme=dark] .colab-df-convert {\n",
              "      background-color: #3B4455;\n",
              "      fill: #D2E3FC;\n",
              "    }\n",
              "\n",
              "    [theme=dark] .colab-df-convert:hover {\n",
              "      background-color: #434B5C;\n",
              "      box-shadow: 0px 1px 3px 1px rgba(0, 0, 0, 0.15);\n",
              "      filter: drop-shadow(0px 1px 2px rgba(0, 0, 0, 0.3));\n",
              "      fill: #FFFFFF;\n",
              "    }\n",
              "  </style>\n",
              "\n",
              "      <script>\n",
              "        const buttonEl =\n",
              "          document.querySelector('#df-b662a96e-1fda-42ab-bcd2-ee438ff2e61d button.colab-df-convert');\n",
              "        buttonEl.style.display =\n",
              "          google.colab.kernel.accessAllowed ? 'block' : 'none';\n",
              "\n",
              "        async function convertToInteractive(key) {\n",
              "          const element = document.querySelector('#df-b662a96e-1fda-42ab-bcd2-ee438ff2e61d');\n",
              "          const dataTable =\n",
              "            await google.colab.kernel.invokeFunction('convertToInteractive',\n",
              "                                                     [key], {});\n",
              "          if (!dataTable) return;\n",
              "\n",
              "          const docLinkHtml = 'Like what you see? Visit the ' +\n",
              "            '<a target=\"_blank\" href=https://colab.research.google.com/notebooks/data_table.ipynb>data table notebook</a>'\n",
              "            + ' to learn more about interactive tables.';\n",
              "          element.innerHTML = '';\n",
              "          dataTable['output_type'] = 'display_data';\n",
              "          await google.colab.output.renderOutput(dataTable, element);\n",
              "          const docLink = document.createElement('div');\n",
              "          docLink.innerHTML = docLinkHtml;\n",
              "          element.appendChild(docLink);\n",
              "        }\n",
              "      </script>\n",
              "    </div>\n",
              "  </div>\n",
              "  "
            ]
          },
          "metadata": {},
          "execution_count": 10
        }
      ]
    },
    {
      "cell_type": "code",
      "source": [
        "#Изучим текущее распределение данных\n",
        "sns.countplot(data=df, x=\"Level\")"
      ],
      "metadata": {
        "colab": {
          "base_uri": "https://localhost:8080/",
          "height": 466
        },
        "id": "Cwm-QpvRyTwt",
        "outputId": "359670a0-7e53-45ca-8bf0-b2beae65a4d1"
      },
      "execution_count": null,
      "outputs": [
        {
          "output_type": "execute_result",
          "data": {
            "text/plain": [
              "<Axes: xlabel='Level', ylabel='count'>"
            ]
          },
          "metadata": {},
          "execution_count": 11
        },
        {
          "output_type": "display_data",
          "data": {
            "text/plain": [
              "<Figure size 640x480 with 1 Axes>"
            ],
            "image/png": "[encoded data removed]"
          },
          "metadata": {}
        }
      ]
    },
    {
      "cell_type": "code",
      "source": [
        "df['Level'].unique()"
      ],
      "metadata": {
        "colab": {
          "base_uri": "https://localhost:8080/"
        },
        "id": "eutEyrqw_wv2",
        "outputId": "86c6ab06-e8bf-4f0e-9eab-1fd776254648"
      },
      "execution_count": null,
      "outputs": [
        {
          "output_type": "execute_result",
          "data": {
            "text/plain": [
              "array(['B1', 'B2', 'A2/A2+', 'C1', 'B1, B2', 'A2/A2+, B1', 'A2'],\n",
              "      dtype=object)"
            ]
          },
          "metadata": {},
          "execution_count": 12
        }
      ]
    },
    {
      "cell_type": "markdown",
      "source": [
        "Поскольку мы видим, что Группы А2/А2+ , В1,B2, А2/А2+,B1 и А2 являются довольно малочисленными, объденим их значения с А2 и B1 соответственно для сохранения некоторого баланса\n"
      ],
      "metadata": {
        "id": "iQC_zoCD-qWW"
      }
    },
    {
      "cell_type": "code",
      "source": [
        "for i in range(len(df['Level'])):\n",
        "  if df.loc[i, 'Level'] == 'A2/A2+':\n",
        "    df.loc[i, 'Level'] = 'A2'\n",
        "  elif df.loc[i, 'Level'] == 'B1, B2':\n",
        "    df.loc[i, 'Level'] = 'B1'\n",
        "  elif df.loc[i, 'Level'] == 'А2':\n",
        "    df.loc[i, 'Level'] = 'A2'\n",
        "  elif df.loc[i, 'Level'] == 'A2/A2+, B1':\n",
        "     df.loc[i, 'Level'] = 'A2'\n"
      ],
      "metadata": {
        "id": "2yzxA0-u-qEH"
      },
      "execution_count": null,
      "outputs": []
    },
    {
      "cell_type": "code",
      "source": [
        "sns.countplot(data=df, x=\"Level\")\n",
        "df['Level'].value_counts()\n",
        "#Не идеально, но уже значительно лучше"
      ],
      "metadata": {
        "colab": {
          "base_uri": "https://localhost:8080/",
          "height": 536
        },
        "id": "UACVYbd6AHX4",
        "outputId": "5b3d4609-1243-4133-ae6c-3d18333a9275"
      },
      "execution_count": null,
      "outputs": [
        {
          "output_type": "execute_result",
          "data": {
            "text/plain": [
              "B2    97\n",
              "B1    61\n",
              "C1    39\n",
              "A2    36\n",
              "Name: Level, dtype: int64"
            ]
          },
          "metadata": {},
          "execution_count": 16
        },
        {
          "output_type": "display_data",
          "data": {
            "text/plain": [
              "<Figure size 640x480 with 1 Axes>"
            ],
            "image/png": "[encoded data removed]"
          },
          "metadata": {}
        }
      ]
    },
    {
      "cell_type": "code",
      "source": [
        "#Загружаем необходимые библиотеки для предобработки данных в датасете\n",
        "\n",
        "nltk.download(\"stopwords\") # поддерживает удаление стоп-слов\n",
        "nltk.download('punkt') # делит текст на список предложений\n",
        "nltk.download('wordnet') # проводит лемматизацию\n",
        "from nltk.corpus import stopwords"
      ],
      "metadata": {
        "colab": {
          "base_uri": "https://localhost:8080/"
        },
        "id": "1_YpNOhwz-Vv",
        "outputId": "c797f626-acc7-4516-b5a6-b8ed6d8b35fc"
      },
      "execution_count": null,
      "outputs": [
        {
          "output_type": "stream",
          "name": "stderr",
          "text": [
            "[nltk_data] Downloading package stopwords to /root/nltk_data...\n",
            "[nltk_data]   Unzipping corpora/stopwords.zip.\n",
            "[nltk_data] Downloading package punkt to /root/nltk_data...\n",
            "[nltk_data]   Unzipping tokenizers/punkt.zip.\n",
            "[nltk_data] Downloading package wordnet to /root/nltk_data...\n"
          ]
        }
      ]
    },
    {
      "cell_type": "markdown",
      "source": [
        "Проведем первичную предобработку, токенизацию и лемматизацию текста"
      ],
      "metadata": {
        "id": "IKcc47xsj8Uu"
      }
    },
    {
      "cell_type": "markdown",
      "source": [
        "На основе сравнительного анализа из статьи- https://webdevblog.ru/podhody-lemmatizacii-s-primerami-v-python/ было решено использовать лематизатор- Pattern, так как результат его работы, на выборке, указанной в задании показал, наилучший результат после StanfordNLP, в идеале было бы конечно хорошо использовать лематизатор- StanfordNLP, но мне так и не удалось запустить его из-за каких-то проблем при скачивании необходимого пакета, потениально его можно скачать на прямую, по иснутркции из https://stackoverflow.com/questions/59115414/when-i-try-to-download-stanfordnlp-en-model-it-gives-an-error, но этого не удалось сделать так как есть проблемы с серверами, согласно инфомрации на сайте"
      ],
      "metadata": {
        "id": "wa82ogFgN5XR"
      }
    },
    {
      "cell_type": "code",
      "source": [
        "#Импортируем необходимый лематайзер\n",
        "!pip install pattern\n",
        "import pattern\n",
        "from pattern.en import lemma, lexeme"
      ],
      "metadata": {
        "colab": {
          "base_uri": "https://localhost:8080/"
        },
        "id": "cq_iNtagsk4k",
        "outputId": "71e7edec-aaf2-4cef-cc27-be4ac8102147"
      },
      "execution_count": null,
      "outputs": [
        {
          "output_type": "stream",
          "name": "stdout",
          "text": [
            "Collecting pattern\n",
            "  Downloading Pattern-3.6.0.tar.gz (22.2 MB)\n",
            "\u001b[2K     \u001b[90m━━━━━━━━━━━━━━━━━━━━━━━━━━━━━━━━━━━━━━━━\u001b[0m \u001b[32m22.2/22.2 MB\u001b[0m \u001b[31m62.9 MB/s\u001b[0m eta \u001b[36m0:00:00\u001b[0m\n",
            "\u001b[?25h  Preparing metadata (setup.py) ... \u001b[?25l\u001b[?25hdone\n",
            "Requirement already satisfied: future in /usr/local/lib/python3.10/dist-packages (from pattern) (0.18.3)\n",
            "Collecting backports.csv (from pattern)\n",
            "  Downloading backports.csv-1.0.7-py2.py3-none-any.whl (12 kB)\n",
            "Collecting mysqlclient (from pattern)\n",
            "  Downloading mysqlclient-2.2.0.tar.gz (89 kB)\n",
            "\u001b[2K     \u001b[90m━━━━━━━━━━━━━━━━━━━━━━━━━━━━━━━━━━━━━━━━\u001b[0m \u001b[32m89.5/89.5 kB\u001b[0m \u001b[31m10.2 MB/s\u001b[0m eta \u001b[36m0:00:00\u001b[0m\n",
            "\u001b[?25h  Installing build dependencies ... \u001b[?25l\u001b[?25hdone\n",
            "  Getting requirements to build wheel ... \u001b[?25l\u001b[?25hdone\n",
            "  Installing backend dependencies ... \u001b[?25l\u001b[?25hdone\n",
            "  Preparing metadata (pyproject.toml) ... \u001b[?25l\u001b[?25hdone\n",
            "Requirement already satisfied: beautifulsoup4 in /usr/local/lib/python3.10/dist-packages (from pattern) (4.11.2)\n",
            "Requirement already satisfied: lxml in /usr/local/lib/python3.10/dist-packages (from pattern) (4.9.2)\n",
            "Collecting feedparser (from pattern)\n",
            "  Downloading feedparser-6.0.10-py3-none-any.whl (81 kB)\n",
            "\u001b[2K     \u001b[90m━━━━━━━━━━━━━━━━━━━━━━━━━━━━━━━━━━━━━━━━\u001b[0m \u001b[32m81.1/81.1 kB\u001b[0m \u001b[31m10.3 MB/s\u001b[0m eta \u001b[36m0:00:00\u001b[0m\n",
            "\u001b[?25hCollecting pdfminer.six (from pattern)\n",
            "  Downloading pdfminer.six-20221105-py3-none-any.whl (5.6 MB)\n",
            "\u001b[2K     \u001b[90m━━━━━━━━━━━━━━━━━━━━━━━━━━━━━━━━━━━━━━━━\u001b[0m \u001b[32m5.6/5.6 MB\u001b[0m \u001b[31m85.7 MB/s\u001b[0m eta \u001b[36m0:00:00\u001b[0m\n",
            "\u001b[?25hRequirement already satisfied: numpy in /usr/local/lib/python3.10/dist-packages (from pattern) (1.22.4)\n",
            "Requirement already satisfied: scipy in /usr/local/lib/python3.10/dist-packages (from pattern) (1.10.1)\n",
            "Requirement already satisfied: nltk in /usr/local/lib/python3.10/dist-packages (from pattern) (3.8.1)\n",
            "Collecting python-docx (from pattern)\n",
            "  Downloading python-docx-0.8.11.tar.gz (5.6 MB)\n",
            "\u001b[2K     \u001b[90m━━━━━━━━━━━━━━━━━━━━━━━━━━━━━━━━━━━━━━━━\u001b[0m \u001b[32m5.6/5.6 MB\u001b[0m \u001b[31m92.0 MB/s\u001b[0m eta \u001b[36m0:00:00\u001b[0m\n",
            "\u001b[?25h  Preparing metadata (setup.py) ... \u001b[?25l\u001b[?25hdone\n",
            "Collecting cherrypy (from pattern)\n",
            "  Downloading CherryPy-18.8.0-py2.py3-none-any.whl (348 kB)\n",
            "\u001b[2K     \u001b[90m━━━━━━━━━━━━━━━━━━━━━━━━━━━━━━━━━━━━━━\u001b[0m \u001b[32m348.4/348.4 kB\u001b[0m \u001b[31m35.4 MB/s\u001b[0m eta \u001b[36m0:00:00\u001b[0m\n",
            "\u001b[?25hRequirement already satisfied: requests in /usr/local/lib/python3.10/dist-packages (from pattern) (2.27.1)\n",
            "Requirement already satisfied: soupsieve>1.2 in /usr/local/lib/python3.10/dist-packages (from beautifulsoup4->pattern) (2.4.1)\n",
            "Collecting cheroot>=8.2.1 (from cherrypy->pattern)\n",
            "  Downloading cheroot-10.0.0-py3-none-any.whl (101 kB)\n",
            "\u001b[2K     \u001b[90m━━━━━━━━━━━━━━━━━━━━━━━━━━━━━━━━━━━━━━\u001b[0m \u001b[32m101.6/101.6 kB\u001b[0m \u001b[31m11.1 MB/s\u001b[0m eta \u001b[36m0:00:00\u001b[0m\n",
            "\u001b[?25hCollecting portend>=2.1.1 (from cherrypy->pattern)\n",
            "  Downloading portend-3.2.0-py3-none-any.whl (5.3 kB)\n",
            "Requirement already satisfied: more-itertools in /usr/local/lib/python3.10/dist-packages (from cherrypy->pattern) (9.1.0)\n",
            "Collecting zc.lockfile (from cherrypy->pattern)\n",
            "  Downloading zc.lockfile-3.0.post1-py3-none-any.whl (9.8 kB)\n",
            "Collecting jaraco.collections (from cherrypy->pattern)\n",
            "  Downloading jaraco.collections-4.3.0-py3-none-any.whl (11 kB)\n",
            "Collecting sgmllib3k (from feedparser->pattern)\n",
            "  Downloading sgmllib3k-1.0.0.tar.gz (5.8 kB)\n",
            "  Preparing metadata (setup.py) ... \u001b[?25l\u001b[?25hdone\n",
            "Requirement already satisfied: click in /usr/local/lib/python3.10/dist-packages (from nltk->pattern) (8.1.3)\n",
            "Requirement already satisfied: joblib in /usr/local/lib/python3.10/dist-packages (from nltk->pattern) (1.2.0)\n",
            "Requirement already satisfied: regex>=2021.8.3 in /usr/local/lib/python3.10/dist-packages (from nltk->pattern) (2022.10.31)\n",
            "Requirement already satisfied: tqdm in /usr/local/lib/python3.10/dist-packages (from nltk->pattern) (4.65.0)\n",
            "Requirement already satisfied: charset-normalizer>=2.0.0 in /usr/local/lib/python3.10/dist-packages (from pdfminer.six->pattern) (2.0.12)\n",
            "Collecting cryptography>=36.0.0 (from pdfminer.six->pattern)\n",
            "  Downloading cryptography-41.0.1-cp37-abi3-manylinux_2_28_x86_64.whl (4.3 MB)\n",
            "\u001b[2K     \u001b[90m━━━━━━━━━━━━━━━━━━━━━━━━━━━━━━━━━━━━━━━━\u001b[0m \u001b[32m4.3/4.3 MB\u001b[0m \u001b[31m64.0 MB/s\u001b[0m eta \u001b[36m0:00:00\u001b[0m\n",
            "\u001b[?25hRequirement already satisfied: urllib3<1.27,>=1.21.1 in /usr/local/lib/python3.10/dist-packages (from requests->pattern) (1.26.16)\n",
            "Requirement already satisfied: certifi>=2017.4.17 in /usr/local/lib/python3.10/dist-packages (from requests->pattern) (2023.5.7)\n",
            "Requirement already satisfied: idna<4,>=2.5 in /usr/local/lib/python3.10/dist-packages (from requests->pattern) (3.4)\n",
            "Collecting jaraco.functools (from cheroot>=8.2.1->cherrypy->pattern)\n",
            "  Downloading jaraco.functools-3.8.0-py3-none-any.whl (8.2 kB)\n",
            "Requirement already satisfied: cffi>=1.12 in /usr/local/lib/python3.10/dist-packages (from cryptography>=36.0.0->pdfminer.six->pattern) (1.15.1)\n",
            "Collecting tempora>=1.8 (from portend>=2.1.1->cherrypy->pattern)\n",
            "  Downloading tempora-5.5.0-py3-none-any.whl (13 kB)\n",
            "Collecting jaraco.text (from jaraco.collections->cherrypy->pattern)\n",
            "  Downloading jaraco.text-3.11.1-py3-none-any.whl (11 kB)\n",
            "Requirement already satisfied: setuptools in /usr/local/lib/python3.10/dist-packages (from zc.lockfile->cherrypy->pattern) (67.7.2)\n",
            "Requirement already satisfied: pycparser in /usr/local/lib/python3.10/dist-packages (from cffi>=1.12->cryptography>=36.0.0->pdfminer.six->pattern) (2.21)\n",
            "Requirement already satisfied: pytz in /usr/local/lib/python3.10/dist-packages (from tempora>=1.8->portend>=2.1.1->cherrypy->pattern) (2022.7.1)\n",
            "Collecting jaraco.context>=4.1 (from jaraco.text->jaraco.collections->cherrypy->pattern)\n",
            "  Downloading jaraco.context-4.3.0-py3-none-any.whl (5.3 kB)\n",
            "Collecting autocommand (from jaraco.text->jaraco.collections->cherrypy->pattern)\n",
            "  Downloading autocommand-2.2.2-py3-none-any.whl (19 kB)\n",
            "Requirement already satisfied: inflect in /usr/local/lib/python3.10/dist-packages (from jaraco.text->jaraco.collections->cherrypy->pattern) (6.0.4)\n",
            "Requirement already satisfied: pydantic>=1.9.1 in /usr/local/lib/python3.10/dist-packages (from inflect->jaraco.text->jaraco.collections->cherrypy->pattern) (1.10.9)\n",
            "Requirement already satisfied: typing-extensions>=4.2.0 in /usr/local/lib/python3.10/dist-packages (from pydantic>=1.9.1->inflect->jaraco.text->jaraco.collections->cherrypy->pattern) (4.6.3)\n",
            "Building wheels for collected packages: pattern, mysqlclient, python-docx, sgmllib3k\n",
            "  Building wheel for pattern (setup.py) ... \u001b[?25l\u001b[?25hdone\n",
            "  Created wheel for pattern: filename=Pattern-3.6-py3-none-any.whl size=22332702 sha256=18257d24cb024cbf830485efcaf5ddf189451ff690ff2aa10f3612f23b9cc44d\n",
            "  Stored in directory: /root/.cache/pip/wheels/d1/8f/40/fe23abd593ef60be5bfaf3e02154d3484df42aa947bbf4d499\n",
            "  Building wheel for mysqlclient (pyproject.toml) ... \u001b[?25l\u001b[?25hdone\n",
            "  Created wheel for mysqlclient: filename=mysqlclient-2.2.0-cp310-cp310-linux_x86_64.whl size=127626 sha256=0eb4ab11cbe6ff285642c1ca7e3f1bcf43580d2d92d505712682a134d2020d05\n",
            "  Stored in directory: /root/.cache/pip/wheels/a4/f8/fd/0399687c0abd03c10c975ed56c692fcd3d0fb80440b5a661f1\n",
            "  Building wheel for python-docx (setup.py) ... \u001b[?25l\u001b[?25hdone\n",
            "  Created wheel for python-docx: filename=python_docx-0.8.11-py3-none-any.whl size=184491 sha256=9b2f3b7e165f90cb92e0c5d14802d662dc4f144369681d71510d475f1f102905\n",
            "  Stored in directory: /root/.cache/pip/wheels/80/27/06/837436d4c3bd989b957a91679966f207bfd71d358d63a8194d\n",
            "  Building wheel for sgmllib3k (setup.py) ... \u001b[?25l\u001b[?25hdone\n",
            "  Created wheel for sgmllib3k: filename=sgmllib3k-1.0.0-py3-none-any.whl size=6046 sha256=16debe4c4aed0104d7701f126e85a581aa9c91169e19730155a9361b780dbe7f\n",
            "  Stored in directory: /root/.cache/pip/wheels/f0/69/93/a47e9d621be168e9e33c7ce60524393c0b92ae83cf6c6e89c5\n",
            "Successfully built pattern mysqlclient python-docx sgmllib3k\n",
            "Installing collected packages: sgmllib3k, backports.csv, zc.lockfile, python-docx, mysqlclient, jaraco.functools, jaraco.context, feedparser, autocommand, tempora, cryptography, cheroot, portend, pdfminer.six, jaraco.text, jaraco.collections, cherrypy, pattern\n",
            "Successfully installed autocommand-2.2.2 backports.csv-1.0.7 cheroot-10.0.0 cherrypy-18.8.0 cryptography-41.0.1 feedparser-6.0.10 jaraco.collections-4.3.0 jaraco.context-4.3.0 jaraco.functools-3.8.0 jaraco.text-3.11.1 mysqlclient-2.2.0 pattern-3.6 pdfminer.six-20221105 portend-3.2.0 python-docx-0.8.11 sgmllib3k-1.0.0 tempora-5.5.0 zc.lockfile-3.0.post1\n"
          ]
        }
      ]
    },
    {
      "cell_type": "code",
      "source": [
        "# импортируем библиотеку nltk\n",
        "import nltk\n",
        "# Импортируем метод word_tokenize из библиотеки nltk\n",
        "from nltk.tokenize import word_tokenize\n",
        "\n",
        "# Импортируем метод stopwords из библиотеки nltk\n",
        "from nltk.corpus import stopwords\n",
        "\n",
        "# загружаем список с английскими стоп-словами в переменную stop-words\n",
        "stop_words = stopwords.words('english')\n",
        "# далее мы можем добавить в список стоп слов новые слова,\n",
        "#как например font в примере ниже, поиграемся с этим потом через анализ частотности слов в датасете\n",
        "stop_words.append('font')\n",
        "\n",
        "# создаем список для хранения очищенных данных\n",
        "cleaned_text = []\n",
        "\n",
        "for text in df['Texts']:\n",
        "    # очищаем данные\n",
        "    text = re.sub(\"[^a-zA-Z]\",\" \",text)\n",
        "    # приводим текст к нижнему регистру\n",
        "    text = text.lower()\n",
        "    # удаляем лишние пробелы\n",
        "    text = re.sub(r'\\s+', ' ', text)\n",
        "    # Производим токенизацию\n",
        "    text = word_tokenize(text)\n",
        "    # с помощью цикла for поочередно проверяем каждое слово(токен) текущего сообщения\n",
        "    # на вхождение в список стоп-слов. Если токен не является стоп-словом, то добавляем его в список\n",
        "    text = [word for word in text if word not in stop_words]\n",
        "    # для каждого слова из текущего сообщения вызываем функцию лемматизации\n",
        "    text = [lemma(wd) for wd in text]\n",
        "    # И приводим датасет в итоговому виду\n",
        "    text = \" \".join(text)\n",
        "    # добавляем очищенные данные в список cleaned_text\n",
        "    cleaned_text.append(text)\n",
        "# записываем очищенные данные в новую колонку 'Cleaned_txt'\n",
        "df['Cleaned_txt'] = cleaned_text\n",
        "# и изучаем результат\n",
        "df"
      ],
      "metadata": {
        "colab": {
          "base_uri": "https://localhost:8080/",
          "height": 423
        },
        "id": "9h3jV_6ODLB5",
        "outputId": "6c2172ff-bc63-4356-f7e3-87ce27291e5b"
      },
      "execution_count": null,
      "outputs": [
        {
          "output_type": "execute_result",
          "data": {
            "text/plain": [
              "                                Movie Level  \\\n",
              "0           10_Cloverfield_lane(2016)    B1   \n",
              "1    10_things_I_hate_about_you(1999)    B1   \n",
              "2                A_knights_tale(2001)    B2   \n",
              "3                A_star_is_born(2018)    B2   \n",
              "4                       Aladdin(1992)    A2   \n",
              "..                                ...   ...   \n",
              "228   Suits.S03E06.720p.HDTV.x264-mSD    C1   \n",
              "229        Suits.S03E07.HDTV.x264-mSD    C1   \n",
              "230   Suits.S03E08.480p.HDTV.x264-mSD    C1   \n",
              "231   Suits.S03E09.480p.HDTV.x264-mSD    C1   \n",
              "232        Suits.S03E10.HDTV.x264-mSD    C1   \n",
              "\n",
              "                                                 Texts  \\\n",
              "0    <font color=\"#ffff80\"><b>Fixed & Synced by boz...   \n",
              "1    Hey!\\nI'll be right with you.\\nSo, Cameron. He...   \n",
              "2    Resync: Xenzai[NEF]\\nRETAIL\\nShould we help hi...   \n",
              "3    - <i><font color=\"#ffffff\"> Synced and correct...   \n",
              "4    <i>Oh, I come from a land\\nFrom a faraway plac...   \n",
              "..                                                 ...   \n",
              "228  I lost Ava her company.\\nI assume my deal\\nwit...   \n",
              "229  Previously on\\n<i>Suits...</i>\\nIt's going up\\...   \n",
              "230  I get Ava Hessington acquitted,\\nDarby backs m...   \n",
              "231  Previously on\\n<i>Suits...</i>\\nI'm bonding\\nw...   \n",
              "232  Previously on\\n<i>Suits...</i>\\nThis is a copy...   \n",
              "\n",
              "                                           Cleaned_txt  \n",
              "0    color ffff b fix sync bozxphd enjoy flick b cl...  \n",
              "1    hey right cameron go nine school year army bra...  \n",
              "2    resync xenzai nef retail help due list two min...  \n",
              "3    color ffffff sync correct b color ffd mrcjnthn...  \n",
              "4    oh come land faraway place caravan camel roam ...  \n",
              "..                                                 ...  \n",
              "228  lose ava company assume deal edward dead long ...  \n",
              "229  previously suit go wall tomorrow way get side ...  \n",
              "230  get ava hessington acquit darby back manage pa...  \n",
              "231  previously suit bond father speak take easy li...  \n",
              "232  previously suit copy letter write copy distric...  \n",
              "\n",
              "[233 rows x 4 columns]"
            ],
            "text/html": [
              "\n",
              "  <div id=\"df-241bc954-a779-4f0b-b360-09a2b0f86cf8\">\n",
              "    <div class=\"colab-df-container\">\n",
              "      <div>\n",
              "<style scoped>\n",
              "    .dataframe tbody tr th:only-of-type {\n",
              "        vertical-align: middle;\n",
              "    }\n",
              "\n",
              "    .dataframe tbody tr th {\n",
              "        vertical-align: top;\n",
              "    }\n",
              "\n",
              "    .dataframe thead th {\n",
              "        text-align: right;\n",
              "    }\n",
              "</style>\n",
              "<table border=\"1\" class=\"dataframe\">\n",
              "  <thead>\n",
              "    <tr style=\"text-align: right;\">\n",
              "      <th></th>\n",
              "      <th>Movie</th>\n",
              "      <th>Level</th>\n",
              "      <th>Texts</th>\n",
              "      <th>Cleaned_txt</th>\n",
              "    </tr>\n",
              "  </thead>\n",
              "  <tbody>\n",
              "    <tr>\n",
              "      <th>0</th>\n",
              "      <td>10_Cloverfield_lane(2016)</td>\n",
              "      <td>B1</td>\n",
              "      <td>&lt;font color=\"#ffff80\"&gt;&lt;b&gt;Fixed &amp; Synced by boz...</td>\n",
              "      <td>color ffff b fix sync bozxphd enjoy flick b cl...</td>\n",
              "    </tr>\n",
              "    <tr>\n",
              "      <th>1</th>\n",
              "      <td>10_things_I_hate_about_you(1999)</td>\n",
              "      <td>B1</td>\n",
              "      <td>Hey!\\nI'll be right with you.\\nSo, Cameron. He...</td>\n",
              "      <td>hey right cameron go nine school year army bra...</td>\n",
              "    </tr>\n",
              "    <tr>\n",
              "      <th>2</th>\n",
              "      <td>A_knights_tale(2001)</td>\n",
              "      <td>B2</td>\n",
              "      <td>Resync: Xenzai[NEF]\\nRETAIL\\nShould we help hi...</td>\n",
              "      <td>resync xenzai nef retail help due list two min...</td>\n",
              "    </tr>\n",
              "    <tr>\n",
              "      <th>3</th>\n",
              "      <td>A_star_is_born(2018)</td>\n",
              "      <td>B2</td>\n",
              "      <td>- &lt;i&gt;&lt;font color=\"#ffffff\"&gt; Synced and correct...</td>\n",
              "      <td>color ffffff sync correct b color ffd mrcjnthn...</td>\n",
              "    </tr>\n",
              "    <tr>\n",
              "      <th>4</th>\n",
              "      <td>Aladdin(1992)</td>\n",
              "      <td>A2</td>\n",
              "      <td>&lt;i&gt;Oh, I come from a land\\nFrom a faraway plac...</td>\n",
              "      <td>oh come land faraway place caravan camel roam ...</td>\n",
              "    </tr>\n",
              "    <tr>\n",
              "      <th>...</th>\n",
              "      <td>...</td>\n",
              "      <td>...</td>\n",
              "      <td>...</td>\n",
              "      <td>...</td>\n",
              "    </tr>\n",
              "    <tr>\n",
              "      <th>228</th>\n",
              "      <td>Suits.S03E06.720p.HDTV.x264-mSD</td>\n",
              "      <td>C1</td>\n",
              "      <td>I lost Ava her company.\\nI assume my deal\\nwit...</td>\n",
              "      <td>lose ava company assume deal edward dead long ...</td>\n",
              "    </tr>\n",
              "    <tr>\n",
              "      <th>229</th>\n",
              "      <td>Suits.S03E07.HDTV.x264-mSD</td>\n",
              "      <td>C1</td>\n",
              "      <td>Previously on\\n&lt;i&gt;Suits...&lt;/i&gt;\\nIt's going up\\...</td>\n",
              "      <td>previously suit go wall tomorrow way get side ...</td>\n",
              "    </tr>\n",
              "    <tr>\n",
              "      <th>230</th>\n",
              "      <td>Suits.S03E08.480p.HDTV.x264-mSD</td>\n",
              "      <td>C1</td>\n",
              "      <td>I get Ava Hessington acquitted,\\nDarby backs m...</td>\n",
              "      <td>get ava hessington acquit darby back manage pa...</td>\n",
              "    </tr>\n",
              "    <tr>\n",
              "      <th>231</th>\n",
              "      <td>Suits.S03E09.480p.HDTV.x264-mSD</td>\n",
              "      <td>C1</td>\n",
              "      <td>Previously on\\n&lt;i&gt;Suits...&lt;/i&gt;\\nI'm bonding\\nw...</td>\n",
              "      <td>previously suit bond father speak take easy li...</td>\n",
              "    </tr>\n",
              "    <tr>\n",
              "      <th>232</th>\n",
              "      <td>Suits.S03E10.HDTV.x264-mSD</td>\n",
              "      <td>C1</td>\n",
              "      <td>Previously on\\n&lt;i&gt;Suits...&lt;/i&gt;\\nThis is a copy...</td>\n",
              "      <td>previously suit copy letter write copy distric...</td>\n",
              "    </tr>\n",
              "  </tbody>\n",
              "</table>\n",
              "<p>233 rows × 4 columns</p>\n",
              "</div>\n",
              "      <button class=\"colab-df-convert\" onclick=\"convertToInteractive('df-241bc954-a779-4f0b-b360-09a2b0f86cf8')\"\n",
              "              title=\"Convert this dataframe to an interactive table.\"\n",
              "              style=\"display:none;\">\n",
              "        \n",
              "  <svg xmlns=\"http://www.w3.org/2000/svg\" height=\"24px\"viewBox=\"0 0 24 24\"\n",
              "       width=\"24px\">\n",
              "    <path d=\"M0 0h24v24H0V0z\" fill=\"none\"/>\n",
              "    <path d=\"M18.56 5.44l.94 2.06.94-2.06 2.06-.94-2.06-.94-.94-2.06-.94 2.06-2.06.94zm-11 1L8.5 8.5l.94-2.06 2.06-.94-2.06-.94L8.5 2.5l-.94 2.06-2.06.94zm10 10l.94 2.06.94-2.06 2.06-.94-2.06-.94-.94-2.06-.94 2.06-2.06.94z\"/><path d=\"M17.41 7.96l-1.37-1.37c-.4-.4-.92-.59-1.43-.59-.52 0-1.04.2-1.43.59L10.3 9.45l-7.72 7.72c-.78.78-.78 2.05 0 2.83L4 21.41c.39.39.9.59 1.41.59.51 0 1.02-.2 1.41-.59l7.78-7.78 2.81-2.81c.8-.78.8-2.07 0-2.86zM5.41 20L4 18.59l7.72-7.72 1.47 1.35L5.41 20z\"/>\n",
              "  </svg>\n",
              "      </button>\n",
              "      \n",
              "  <style>\n",
              "    .colab-df-container {\n",
              "      display:flex;\n",
              "      flex-wrap:wrap;\n",
              "      gap: 12px;\n",
              "    }\n",
              "\n",
              "    .colab-df-convert {\n",
              "      background-color: #E8F0FE;\n",
              "      border: none;\n",
              "      border-radius: 50%;\n",
              "      cursor: pointer;\n",
              "      display: none;\n",
              "      fill: #1967D2;\n",
              "      height: 32px;\n",
              "      padding: 0 0 0 0;\n",
              "      width: 32px;\n",
              "    }\n",
              "\n",
              "    .colab-df-convert:hover {\n",
              "      background-color: #E2EBFA;\n",
              "      box-shadow: 0px 1px 2px rgba(60, 64, 67, 0.3), 0px 1px 3px 1px rgba(60, 64, 67, 0.15);\n",
              "      fill: #174EA6;\n",
              "    }\n",
              "\n",
              "    [theme=dark] .colab-df-convert {\n",
              "      background-color: #3B4455;\n",
              "      fill: #D2E3FC;\n",
              "    }\n",
              "\n",
              "    [theme=dark] .colab-df-convert:hover {\n",
              "      background-color: #434B5C;\n",
              "      box-shadow: 0px 1px 3px 1px rgba(0, 0, 0, 0.15);\n",
              "      filter: drop-shadow(0px 1px 2px rgba(0, 0, 0, 0.3));\n",
              "      fill: #FFFFFF;\n",
              "    }\n",
              "  </style>\n",
              "\n",
              "      <script>\n",
              "        const buttonEl =\n",
              "          document.querySelector('#df-241bc954-a779-4f0b-b360-09a2b0f86cf8 button.colab-df-convert');\n",
              "        buttonEl.style.display =\n",
              "          google.colab.kernel.accessAllowed ? 'block' : 'none';\n",
              "\n",
              "        async function convertToInteractive(key) {\n",
              "          const element = document.querySelector('#df-241bc954-a779-4f0b-b360-09a2b0f86cf8');\n",
              "          const dataTable =\n",
              "            await google.colab.kernel.invokeFunction('convertToInteractive',\n",
              "                                                     [key], {});\n",
              "          if (!dataTable) return;\n",
              "\n",
              "          const docLinkHtml = 'Like what you see? Visit the ' +\n",
              "            '<a target=\"_blank\" href=https://colab.research.google.com/notebooks/data_table.ipynb>data table notebook</a>'\n",
              "            + ' to learn more about interactive tables.';\n",
              "          element.innerHTML = '';\n",
              "          dataTable['output_type'] = 'display_data';\n",
              "          await google.colab.output.renderOutput(dataTable, element);\n",
              "          const docLink = document.createElement('div');\n",
              "          docLink.innerHTML = docLinkHtml;\n",
              "          element.appendChild(docLink);\n",
              "        }\n",
              "      </script>\n",
              "    </div>\n",
              "  </div>\n",
              "  "
            ]
          },
          "metadata": {},
          "execution_count": 118
        }
      ]
    },
    {
      "cell_type": "code",
      "source": [
        "X = cleaned_text\n",
        "y = df[\"Level\"].values\n",
        "#Далее разделим выборку на тестовую и обучающую\n",
        "\n",
        "x_train, y_train, x_valid, y_valid = train_test_split(X, y, test_size = 0.33, random_state = 42)\n",
        "len(y_valid)"
      ],
      "metadata": {
        "colab": {
          "base_uri": "https://localhost:8080/"
        },
        "outputId": "4ba1551c-e25f-475e-bb24-df74c3aecce4",
        "id": "6iEMuDECnR9m"
      },
      "execution_count": null,
      "outputs": [
        {
          "output_type": "execute_result",
          "data": {
            "text/plain": [
              "77"
            ]
          },
          "metadata": {},
          "execution_count": 245
        }
      ]
    },
    {
      "cell_type": "code",
      "source": [
        "# Одним из прорабатываемых вариантов, также было кодирование целевых признаков с помощью Ordinal Encoder, для того чтобы предсказания можно было выполнять в том числе и с помощью моделей ргерессии, но от этого варианта было решено отказаться\n",
        "#ce_ord = ce.OrdinalEncoder()\n",
        "#y = ce_ord.fit_transform(df[\"Level\"].values)\n",
        "#ce_ord.get_params([y])"
      ],
      "metadata": {
        "id": "ga1ei1qwfoig",
        "colab": {
          "base_uri": "https://localhost:8080/"
        },
        "outputId": "09649a2a-d517-4aa7-d8f0-3791c7c5ddbf"
      },
      "execution_count": null,
      "outputs": [
        {
          "output_type": "execute_result",
          "data": {
            "text/plain": [
              "{'cols': [0],\n",
              " 'drop_invariant': False,\n",
              " 'handle_missing': 'value',\n",
              " 'handle_unknown': 'value',\n",
              " 'mapping': [{'col': 0,\n",
              "   'mapping': B1     1\n",
              "   B2     2\n",
              "   A2     3\n",
              "   C1     4\n",
              "   NaN   -2\n",
              "   dtype: int64,\n",
              "   'data_type': dtype('O')}],\n",
              " 'return_df': True,\n",
              " 'verbose': 0}"
            ]
          },
          "metadata": {},
          "execution_count": 194
        }
      ]
    },
    {
      "cell_type": "markdown",
      "source": [
        "Для дальнейшей векторизации текста, было решено использовать 3 различных модели, чтобы посмотреть какая из них даст наибольший результат и использовать ее в итоговой модели. Изучаемые модели: CountVectorizer, Tfidfvectorizer и Word2Vec. Метрикой, была выбрана f1_macro, так как нам одинакова важна успешность предсказания каждого из признаков."
      ],
      "metadata": {
        "id": "gKOfQf16lWUK"
      }
    },
    {
      "cell_type": "code",
      "source": [
        "# импортируем модуль CountVectorizer\n",
        "from sklearn.feature_extraction.text import CountVectorizer\n",
        "count = CountVectorizer()\n",
        "# проводим преобразование текста c помощью CountVectorizer\n",
        "CV_train = count.fit_transform(x_train).toarray()\n",
        "CV_test = count.transform(y_train).toarray()"
      ],
      "metadata": {
        "id": "iwoU5Q-gR_Ok"
      },
      "execution_count": null,
      "outputs": []
    },
    {
      "cell_type": "code",
      "source": [
        "# импортируем модуль TfidfVectorizer\n",
        "from sklearn.feature_extraction.text import TfidfVectorizer\n",
        "tfidf_vectorizer = TfidfVectorizer()\n",
        "#преобразуем текст\n",
        "TFV_train = tfidf_vectorizer.fit_transform(x_train).toarray()\n",
        "TFV_test = tfidf_vectorizer.transform(y_train).toarray()"
      ],
      "metadata": {
        "id": "FUCbFfieyw5g"
      },
      "execution_count": null,
      "outputs": []
    },
    {
      "cell_type": "code",
      "source": [
        "# Импортируем и обрабатываем тренировочный датасет с помощью Word2Vec\n",
        "from gensim.models import Word2Vec\n",
        "import numpy as np\n",
        "\n",
        "sentences = [sentence.split() for sentence in x_train]\n",
        "w2v_model = Word2Vec(sentences, window=5, min_count=5, workers=4)\n",
        "\n",
        "def vectorize(sentence):\n",
        "    words = sentence.split()\n",
        "    words_vecs = [w2v_model.wv[word] for word in words if word in w2v_model.wv]\n",
        "    if len(words_vecs) == 0:\n",
        "        return np.zeros(100)\n",
        "    words_vecs = np.array(words_vecs)\n",
        "    return words_vecs.mean(axis=0)\n",
        "\n",
        "W2V_train = np.array([vectorize(sentence) for sentence in x_train])\n",
        "W2V_test = np.array([vectorize(sentence) for sentence in y_train])"
      ],
      "metadata": {
        "id": "GA_HZg0mmrY6"
      },
      "execution_count": null,
      "outputs": []
    },
    {
      "cell_type": "markdown",
      "source": [
        "Изучим результаты предсказания на данных, предобработанных с помощью- CountVectorizer\n",
        "\n"
      ],
      "metadata": {
        "id": "JrcmYoMSoZSx"
      }
    },
    {
      "cell_type": "code",
      "source": [
        "x_train = CV_train\n",
        "y_train = CV_test"
      ],
      "metadata": {
        "id": "dx9UpJ6_3mHc"
      },
      "execution_count": null,
      "outputs": []
    },
    {
      "cell_type": "code",
      "source": [
        "LR = LogisticRegression(random_state=0, solver='lbfgs', multi_class='multinomial').fit(x_train, x_valid)\n",
        "LR_predict = LR.predict(y_train)\n",
        "print('Результат предсказания LogisticRegression', f1_score(y_valid, LR_predict, average='macro'))\n",
        "print('При этом точность-', f1_score(y_valid, LR_predict, average='micro'))\n",
        "\n",
        "SVM = svm.SVC(decision_function_shape=\"ovo\").fit(x_train, x_valid)\n",
        "SVM_predict = SVM.predict(y_train)\n",
        "print('Результат предсказания SVM', f1_score(y_valid, SVM_predict, average='macro'))\n",
        "print('При этом точность-', f1_score(y_valid, SVM_predict, average='micro'))\n",
        "\n",
        "NB = GaussianNB().fit(x_train, x_valid)\n",
        "NB_predict = NB.predict(y_train)\n",
        "print('Результат предсказания GaussianNB', f1_score(y_valid, NB_predict, average='macro'))\n",
        "print('При этом точность-', f1_score(y_valid, NB_predict, average='micro'))\n",
        "\n",
        "MultNB = MultinomialNB().fit(x_train, x_valid)\n",
        "MultNB_predict = MultNB.predict(y_train)\n",
        "print('Результат предсказания MultinomialNB', f1_score(y_valid, MultNB_predict, average='macro'))\n",
        "print('При этом точность-', f1_score(y_valid, MultNB_predict, average='micro'))\n",
        "\n",
        "\n",
        "SGDC = SGDClassifier(loss='hinge', penalty='l2',alpha=1e-3, random_state=42, max_iter=5, tol=None).fit(x_train, x_valid)\n",
        "SGDC_predict = SGDC.predict(y_train)\n",
        "print('Результат предсказания SGDC', f1_score(y_valid, SGDC_predict, average='macro'))\n",
        "print('При этом точность-', f1_score(y_valid, SGDC_predict, average='micro'))\n",
        "\n",
        "NN = MLPClassifier(solver='lbfgs', alpha=1e-5, hidden_layer_sizes=(150, 10), random_state=1).fit(x_train, x_valid)\n",
        "NN_predict = NN.predict(y_train)\n",
        "print('Результат предсказания MLPClassifier', f1_score(y_valid, NN_predict, average='macro'))\n",
        "print('При этом точность-', f1_score(y_valid, NN_predict, average='micro'))"
      ],
      "metadata": {
        "colab": {
          "base_uri": "https://localhost:8080/"
        },
        "outputId": "61f3cc13-2dfe-40cf-e2ed-431ef95d7c28",
        "id": "Vzpe-4N13vmj"
      },
      "execution_count": null,
      "outputs": [
        {
          "output_type": "stream",
          "name": "stderr",
          "text": [
            "/usr/local/lib/python3.10/dist-packages/sklearn/linear_model/_logistic.py:458: ConvergenceWarning: lbfgs failed to converge (status=1):\n",
            "STOP: TOTAL NO. of ITERATIONS REACHED LIMIT.\n",
            "\n",
            "Increase the number of iterations (max_iter) or scale the data as shown in:\n",
            "    https://scikit-learn.org/stable/modules/preprocessing.html\n",
            "Please also refer to the documentation for alternative solver options:\n",
            "    https://scikit-learn.org/stable/modules/linear_model.html#logistic-regression\n",
            "  n_iter_i = _check_optimize_result(\n"
          ]
        },
        {
          "output_type": "stream",
          "name": "stdout",
          "text": [
            "Результат предсказания LogisticRegression 0.5833848690991548\n",
            "При этом точность- 0.5714285714285714\n",
            "Результат предсказания SVM 0.4342747199890057\n",
            "При этом точность- 0.4935064935064935\n",
            "Результат предсказания GaussianNB 0.6747498115919168\n",
            "При этом точность- 0.6753246753246753\n",
            "Результат предсказания MultinomialNB 0.5335984277160749\n",
            "При этом точность- 0.5714285714285714\n",
            "Результат предсказания SGDC 0.5543759498646716\n",
            "При этом точность- 0.5584415584415584\n",
            "Результат предсказания MLPClassifier 0.6014203661262485\n",
            "При этом точность- 0.6103896103896104\n"
          ]
        }
      ]
    },
    {
      "cell_type": "code",
      "source": [
        "NB = GaussianNB().fit(x_train, x_valid)\n",
        "NB_predict = NB.predict(y_train)\n",
        "print('Результат предсказания GaussianNB по weighted', f1_score(y_valid, NB_predict, average='weighted'))\n",
        "print('При этом точность-', f1_score(y_valid, NB_predict, average='micro'))"
      ],
      "metadata": {
        "id": "agibKk9ukQkG"
      },
      "execution_count": null,
      "outputs": []
    },
    {
      "cell_type": "code",
      "source": [
        "# Также, создадим небольшую функцию для подбора наилучшего гиперпараметра и расчета метрики- f1_macro для подбора гиперпараметров на Random Forest\n",
        "def best_model(model, params, features_train, target_train, features_valid, target_valid):\n",
        "    grid = GridSearchCV(model, param_grid = params, cv=5,\n",
        "                                            scoring = 'f1_macro', n_jobs=-1)\n",
        "    grid.fit(features_train,target_train)\n",
        "    predict = grid.predict(features_valid)\n",
        "\n",
        "    return grid.best_score_, grid.best_params_"
      ],
      "metadata": {
        "id": "98k27HK4z7yt"
      },
      "execution_count": null,
      "outputs": []
    },
    {
      "cell_type": "code",
      "source": [
        "KN_model = KNeighborsClassifier()\n",
        "KN_modelclassifier_params = {'n_neighbors':range(1, 50)}\n",
        "KN_modelclassifier = best_model(KN_model, KN_modelclassifier_params, x_train, x_valid, y_train, y_valid)\n",
        "KN_modelclassifier"
      ],
      "metadata": {
        "colab": {
          "base_uri": "https://localhost:8080/"
        },
        "id": "_qV8-TVaD6fH",
        "outputId": "e89796cd-1fcd-433f-c4a4-e14e617584cf"
      },
      "execution_count": null,
      "outputs": [
        {
          "output_type": "execute_result",
          "data": {
            "text/plain": [
              "(0.6134556538469582, {'n_neighbors': 2})"
            ]
          },
          "metadata": {},
          "execution_count": 217
        }
      ]
    },
    {
      "cell_type": "code",
      "source": [
        "RF_model = RandomForestClassifier(random_state=12345)\n",
        "forestclassifier_params = {'n_estimators':range(1, 100, 10),\n",
        "             'max_depth':range (1,20)}\n",
        "RandomForest = best_model(RF_model, forestclassifier_params, x_train, x_valid, y_train, y_valid)\n",
        "RandomForest"
      ],
      "metadata": {
        "colab": {
          "base_uri": "https://localhost:8080/"
        },
        "id": "cLQma8PUVnWD",
        "outputId": "630b590e-cc55-4060-d9b6-249480e30d64"
      },
      "execution_count": null,
      "outputs": [
        {
          "output_type": "execute_result",
          "data": {
            "text/plain": [
              "(0.5489981345491091, {'max_depth': 14, 'n_estimators': 11})"
            ]
          },
          "metadata": {},
          "execution_count": 220
        }
      ]
    },
    {
      "cell_type": "markdown",
      "source": [
        "Изучим результаты предсказания на данных, предобработанных с помощью- TfidfVectorizer"
      ],
      "metadata": {
        "id": "PYkMCf8f3KQP"
      }
    },
    {
      "cell_type": "code",
      "source": [
        "x_train = TFV_train\n",
        "y_train = TFV_test"
      ],
      "metadata": {
        "id": "Pjvc60hW4Kcw"
      },
      "execution_count": null,
      "outputs": []
    },
    {
      "cell_type": "code",
      "source": [
        "LR = LogisticRegression(random_state=0, solver='lbfgs', multi_class='multinomial').fit(x_train, x_valid)\n",
        "LR_predict = LR.predict(y_train)\n",
        "print('Результат предсказания LogisticRegression', f1_score(y_valid, LR_predict, average='macro'))\n",
        "print('При этом точность-', f1_score(y_valid, LR_predict, average='micro'))\n",
        "\n",
        "SVM = svm.SVC(decision_function_shape=\"ovo\").fit(x_train, x_valid)\n",
        "SVM_predict = SVM.predict(y_train)\n",
        "print('Результат предсказания SVM', f1_score(y_valid, SVM_predict, average='macro'))\n",
        "print('При этом точность-', f1_score(y_valid, SVM_predict, average='micro'))\n",
        "\n",
        "NB = GaussianNB().fit(x_train, x_valid)\n",
        "NB_predict = NB.predict(y_train)\n",
        "print('Результат предсказания GaussianNB', f1_score(y_valid, NB_predict, average='macro'))\n",
        "print('При этом точность-', f1_score(y_valid, NB_predict, average='micro'))\n",
        "\n",
        "MultNB = MultinomialNB().fit(x_train, x_valid)\n",
        "MultNB_predict = MultNB.predict(y_train)\n",
        "print('Результат предсказания MultinomialNB', f1_score(y_valid, MultNB_predict, average='macro'))\n",
        "print('При этом точность-', f1_score(y_valid, MultNB_predict, average='micro'))\n",
        "\n",
        "\n",
        "SGDC = SGDClassifier(loss='hinge', penalty='l2',alpha=1e-3, random_state=42, max_iter=5, tol=None).fit(x_train, x_valid)\n",
        "SGDC_predict = SGDC.predict(y_train)\n",
        "print('Результат предсказания SGDC', f1_score(y_valid, SGDC_predict, average='macro'))\n",
        "print('При этом точность-', f1_score(y_valid, SGDC_predict, average='micro'))\n",
        "\n",
        "NN = MLPClassifier(solver='lbfgs', alpha=1e-5, hidden_layer_sizes=(150, 10), random_state=1).fit(x_train, x_valid)\n",
        "NN_predict = NN.predict(y_train)\n",
        "print('Результат предсказания MLPClassifier', f1_score(y_valid, NN_predict, average='macro'))\n",
        "print('При этом точность-', f1_score(y_valid, NN_predict, average='micro'))"
      ],
      "metadata": {
        "colab": {
          "base_uri": "https://localhost:8080/"
        },
        "outputId": "a7de831b-2870-4bc4-db36-92cdbd7f112f",
        "id": "Mt3m9t_14Twj"
      },
      "execution_count": null,
      "outputs": [
        {
          "output_type": "stream",
          "name": "stdout",
          "text": [
            "Результат предсказания LogisticRegression 0.4723193473193473\n",
            "При этом точность- 0.5714285714285714\n",
            "Результат предсказания SVM 0.5202061667578909\n",
            "При этом точность- 0.6103896103896104\n",
            "Результат предсказания GaussianNB 0.6313810440735986\n",
            "При этом точность- 0.6623376623376623\n",
            "Результат предсказания MultinomialNB 0.24427655677655677\n",
            "При этом точность- 0.45454545454545453\n",
            "Результат предсказания SGDC 0.5681634642160958\n",
            "При этом точность- 0.6103896103896104\n",
            "Результат предсказания MLPClassifier 0.6015211640211641\n",
            "При этом точность- 0.6103896103896104\n"
          ]
        }
      ]
    },
    {
      "cell_type": "code",
      "source": [
        "KN_model = KNeighborsClassifier()\n",
        "KN_modelclassifier_params = {'n_neighbors':range(1, 50)}\n",
        "KN_modelclassifier = best_model(KN_model, KN_modelclassifier_params, x_train, x_valid, y_train, y_valid)\n",
        "KN_modelclassifier"
      ],
      "metadata": {
        "colab": {
          "base_uri": "https://localhost:8080/"
        },
        "id": "2o8y4oyeRhR3",
        "outputId": "4c248a93-087e-410b-edc6-82bde20071ff"
      },
      "execution_count": null,
      "outputs": [
        {
          "output_type": "execute_result",
          "data": {
            "text/plain": [
              "(0.36181169320875206, {'n_neighbors': 26})"
            ]
          },
          "metadata": {},
          "execution_count": 223
        }
      ]
    },
    {
      "cell_type": "code",
      "source": [
        "RF_model = RandomForestClassifier(random_state=12345)\n",
        "forestclassifier_params = {'n_estimators':range(1, 100, 10),\n",
        "             'max_depth':range (1,20)}\n",
        "RandomForest = best_model(RF_model, forestclassifier_params, x_train, x_valid, y_train, y_valid)\n",
        "RandomForest"
      ],
      "metadata": {
        "colab": {
          "base_uri": "https://localhost:8080/"
        },
        "id": "Q7vG9_UD4cs0",
        "outputId": "9ed8d1cd-3e08-469b-f2a6-c49cf4bd6d10"
      },
      "execution_count": null,
      "outputs": [
        {
          "output_type": "execute_result",
          "data": {
            "text/plain": [
              "(0.5425310072318186, {'max_depth': 11, 'n_estimators': 81})"
            ]
          },
          "metadata": {},
          "execution_count": 224
        }
      ]
    },
    {
      "cell_type": "markdown",
      "source": [
        "Изучим результаты предсказания на данных, предобработанных с помощью- Word2Vec"
      ],
      "metadata": {
        "id": "p4p99zxd4twX"
      }
    },
    {
      "cell_type": "code",
      "source": [
        "x_train = W2V_train\n",
        "y_train = W2V_test"
      ],
      "metadata": {
        "id": "Gp8d_poh5CEo"
      },
      "execution_count": null,
      "outputs": []
    },
    {
      "cell_type": "code",
      "source": [
        "LR = LogisticRegression(random_state=0, solver='lbfgs', multi_class='multinomial').fit(x_train, x_valid)\n",
        "LR_predict = LR.predict(y_train)\n",
        "print('Результат предсказания LogisticRegression', f1_score(y_valid, LR_predict, average='macro'))\n",
        "print('При этом точность-', f1_score(y_valid, LR_predict, average='micro'))\n",
        "\n",
        "SVM = svm.SVC(decision_function_shape=\"ovo\").fit(x_train, x_valid)\n",
        "SVM_predict = SVM.predict(y_train)\n",
        "print('Результат предсказания SVM', f1_score(y_valid, SVM_predict, average='macro'))\n",
        "print('При этом точность-', f1_score(y_valid, SVM_predict, average='micro'))\n",
        "\n",
        "NB = GaussianNB().fit(x_train, x_valid)\n",
        "NB_predict = NB.predict(y_train)\n",
        "print('Результат предсказания GaussianNB', f1_score(y_valid, NB_predict, average='macro'))\n",
        "print('При этом точность-', f1_score(y_valid, NB_predict, average='micro'))\n",
        "\n",
        "# MultinomialNB не получилось использовать, так как он выдает ошибку из-за передачи отрицательных данных\n",
        "#MultNB = MultinomialNB().fit(x_train, x_valid)\n",
        "#MultNB_predict = MultNB.predict(y_train)\n",
        "#print('Результат предсказания MultinomialNB', f1_score(y_valid, MultNB_predict, average='macro'))\n",
        "\n",
        "SGDC = SGDClassifier(loss='hinge', penalty='l2',alpha=1e-3, random_state=42, max_iter=5, tol=None).fit(x_train, x_valid)\n",
        "SGDC_predict = SGDC.predict(y_train)\n",
        "print('Результат предсказания SGDC', f1_score(y_valid, SGDC_predict, average='macro'))\n",
        "print('При этом точность-', f1_score(y_valid, SGDC_predict, average='micro'))\n",
        "\n",
        "NN = MLPClassifier(solver='lbfgs', alpha=1e-5, hidden_layer_sizes=(150, 10), random_state=1).fit(x_train, x_valid)\n",
        "NN_predict = NN.predict(y_train)\n",
        "print('Результат предсказания MLPClassifier', f1_score(y_valid, NN_predict, average='macro'))\n",
        "print('При этом точность-', f1_score(y_valid, NN_predict, average='micro'))"
      ],
      "metadata": {
        "colab": {
          "base_uri": "https://localhost:8080/"
        },
        "outputId": "698ff090-1c56-40dd-8acb-0c77fd43b134",
        "id": "NTHTRdyb4_3d"
      },
      "execution_count": null,
      "outputs": [
        {
          "output_type": "stream",
          "name": "stdout",
          "text": [
            "Результат предсказания LogisticRegression 0.4859943977591036\n",
            "При этом точность- 0.5974025974025974\n",
            "Результат предсказания SVM 0.45792103948025986\n",
            "При этом точность- 0.5584415584415584\n",
            "Результат предсказания GaussianNB 0.5936624649859944\n",
            "При этом точность- 0.5974025974025974\n",
            "Результат предсказания SGDC 0.4722222222222222\n",
            "При этом точность- 0.5714285714285714\n",
            "Результат предсказания MLPClassifier 0.5722497377426955\n",
            "При этом точность- 0.5974025974025974\n"
          ]
        },
        {
          "output_type": "stream",
          "name": "stderr",
          "text": [
            "/usr/local/lib/python3.10/dist-packages/sklearn/neural_network/_multilayer_perceptron.py:541: ConvergenceWarning: lbfgs failed to converge (status=1):\n",
            "STOP: TOTAL NO. of ITERATIONS REACHED LIMIT.\n",
            "\n",
            "Increase the number of iterations (max_iter) or scale the data as shown in:\n",
            "    https://scikit-learn.org/stable/modules/preprocessing.html\n",
            "  self.n_iter_ = _check_optimize_result(\"lbfgs\", opt_res, self.max_iter)\n"
          ]
        }
      ]
    },
    {
      "cell_type": "code",
      "source": [
        "KN_model = KNeighborsClassifier()\n",
        "KN_modelclassifier_params = {'n_neighbors':range(1, 50)}\n",
        "KN_modelclassifier = best_model(KN_model, KN_modelclassifier_params, x_train, x_valid, y_train, y_valid)\n",
        "KN_modelclassifier"
      ],
      "metadata": {
        "colab": {
          "base_uri": "https://localhost:8080/"
        },
        "id": "FkdLPtyrRgIC",
        "outputId": "21b9c866-42aa-4a51-b352-6cfc9861db19"
      },
      "execution_count": null,
      "outputs": [
        {
          "output_type": "execute_result",
          "data": {
            "text/plain": [
              "(0.6032723721067375, {'n_neighbors': 2})"
            ]
          },
          "metadata": {},
          "execution_count": 227
        }
      ]
    },
    {
      "cell_type": "code",
      "source": [
        "RF_model = RandomForestClassifier(random_state=12345)\n",
        "forestclassifier_params = {'n_estimators':range(1, 100, 10),\n",
        "             'max_depth':range (1,20)}\n",
        "RandomForest = best_model(RF_model, forestclassifier_params, x_train, x_valid, y_train, y_valid)\n",
        "RandomForest"
      ],
      "metadata": {
        "colab": {
          "base_uri": "https://localhost:8080/"
        },
        "id": "2oZbFgPb5Jw4",
        "outputId": "f645b77f-4f71-4114-9d09-d232b2a7e2a3"
      },
      "execution_count": null,
      "outputs": [
        {
          "output_type": "execute_result",
          "data": {
            "text/plain": [
              "(0.5905940307679438, {'max_depth': 7, 'n_estimators': 11})"
            ]
          },
          "metadata": {},
          "execution_count": 228
        }
      ]
    },
    {
      "cell_type": "markdown",
      "source": [
        "По итогу, лучшей моделью на текущих данных является модель- GaussianNB, на признаках, обработанных, при помощи- CountVectorizer"
      ],
      "metadata": {
        "id": "M_ZZ0-BP-JqI"
      }
    },
    {
      "cell_type": "markdown",
      "source": [
        "Однако, как мы можем видеть, в исходном преждоставленном от заказчика датасете данные сильно несбалансированны, чтобы решить эту проблему, я нашел новые данные, для каждой из категории, чтобы привести их все к уровню значений в столбце- B1 (97). Основой для разметки послужили, следующие статьи:\n",
        "- https://towardsdatascience.com/the-best-netflix-movies-series-to-learn-english-according-to-data-science-dec7b047b164\n",
        "- https://towardsdatascience.com/the-simpsons-is-the-best-tv-show-to-increase-your-english-vocabulary-f433fe060a74\n",
        "- https://towardsdatascience.com/the-best-disney-movies-to-learn-a-foreign-language-according-to-data-science-45e7fd084a78\n",
        "\n",
        "В которых авторов, путем анализа ряда субтитров к фильмов, с помощью инструментов Дата саенс, смог вывести сложность ряда фильмов и сериалов на основе колличества слов, необходимых для понимания каждого из фильмов исходя из словарного запаса зрителя в зависимости от частоты использумых в диалогах слов. Субтитры к фильмам, я скачивал с сайта- https://subscene.com/, на основании приведенных автором наименовании фильмов."
      ],
      "metadata": {
        "id": "9Ax1Iai3-miI"
      }
    },
    {
      "cell_type": "markdown",
      "source": [
        "ВОПРОС К РЕВУЬЮЭРУ\n",
        "Также, одним из вариантов я думал, использовать заполнение отсутствующих значений с помощью искуственно сгенерированного текста, на оснвое текста субтитров в каждой из категории, но затем решил отказаться от этой идеи, так как в некоторых случаях, объем такого текста, мог бы превышать 40% фильмов в некоторых категориях, что бы сильно могло исказить данные. На сколько вообще такой подход с искуственной генерации признаков имеет смысл или его имеет смысл использовать только когда дисбаланс не так высок? Идею с методом и кодом, подсмотрел в статье- https://habr.com/ru/articles/677512/"
      ],
      "metadata": {
        "id": "xB-rnoV4AqP0"
      }
    },
    {
      "cell_type": "code",
      "source": [],
      "metadata": {
        "id": "cWfdo7lpF23j"
      },
      "execution_count": null,
      "outputs": []
    },
    {
      "cell_type": "code",
      "source": [
        "# folder path\n",
        "dir_path = r'/content/drive/MyDrive/DS/Updated subs'\n",
        "\n",
        "# list to store files\n",
        "res = []\n",
        "\n",
        "# Iterate directory\n",
        "for path in os.listdir(dir_path):\n",
        "    # check if current path is a file\n",
        "    if os.path.isfile(os.path.join(dir_path, path)):\n",
        "      res.append(path.rpartition('.')[0])\n",
        "\n",
        "print(res)\n",
        "\n",
        "dir_path = r'/content/drive/MyDrive/DS/Updated subs'\n",
        "\n",
        "# list to store files\n",
        "txts = []\n",
        "\n",
        "for file in os.listdir(dir_path):\n",
        "  fil = pysrt.open(os.path.join(dir_path, file), encoding='iso-8859-1')\n",
        "  txt = fil.text\n",
        "  txts.append(txt)\n",
        "\n",
        "сolumns = {'Titles':res, 'Texts':txts}\n",
        "df1 = pd.DataFrame(сolumns)\n",
        "\n",
        "df2= pd.read_excel('/content/drive/MyDrive/DS/updated_movies_labels.xlsx')\n",
        "\n",
        "updated_df = df2.merge(df1, left_on = 'Movie', right_on = 'Titles', how = 'inner')\n",
        "updated_df = updated_df.drop(['Titles', 'id'], axis= 1)\n",
        "\n",
        "updated_df"
      ],
      "metadata": {
        "colab": {
          "base_uri": "https://localhost:8080/",
          "height": 461
        },
        "id": "XzXQVaeH-lyV",
        "outputId": "a75427ed-ba49-41b5-d1ef-ceb286c2f319"
      },
      "execution_count": null,
      "outputs": [
        {
          "output_type": "stream",
          "name": "stdout",
          "text": [
            "['The Haunted Mansion', 'Elektra (2005) - ALLiANCE - ', 'The.Adventures.of.Ichabod.and.Mr..Toad.[toasty]_Eng', 'The.Lake.House[2006]DvDrip[Eng]-aXXo', 'The.Pursuit.Of.Happyness[2006]DvDrip[Eng]-aXXo', 'dmt-xvid-darj', 'sabrina1995-faye-xvid', 'bestdivx-sexcity-cd1.English', 'bestdivx-sexcity-cd2.English', 'ils.cool.runnings.dvdrip.xvid', 'Vicky.Cristina.Barcelona[2008]DvDrip-aXXo', 'p-hsm3-cd1.English', 'p-hsm3-cd2.English', 'Dawn Of The Dead[2004]Xvid.NeRoZ.Eng.Kurikong', 'Quarantine 2008', 'The.Score.(2001).en', 'Princess.Protection.Program.2009.DVDRip.XviD-VoMiT', 'nedivx-hmontana', 'The.Book.Of.Eli.2010.DVDScr.XviD-TFE', 'Star Struck', 'The.Fourth.Kind.2009.720p.BluRay.x264.DTS-WiKi', 'Camp.Rock.2.2010.480.x264.AAC-GHiA-wjzh-HDMovie.vn_Track3', 'REC.2007.480p.BRRip.XviD.AC3-PRoDJi', 'Monsters.2010.LiMiTED.BDRip.XviD-SAiNTS.(Spanish.translated)', 'Cheaper by the Dozen [2003] DvDrip [Eng] BugZ', 'Lemonade Mouth[2011]DVDRip XviD-ExtraTorrentRG.English', 'wizards of weaverly place', 'No.Strings.Attached.2011.720p.BluRay.X264-AMIABLE.EN', 'No.Strings.Attached.2011.720p.BluRay.X264-AMIABLE.Eng', 'The Chronicles of Narnia The Lion the Witch and the Wardrobe BRRIP 720p 6Ch.[DUAL AUDIO][Eng-Hindi]~i2009ak_khd527', 'Unthinkable.2010.DVDSCR.XviD-Rx', 'Tootsie', 'Mirrors.Unrated.720p.BRRip.x264-HDLiTE_ENG', 'melancholia.2011.brrip.xvid-ncode', 'dfd-psild-720p_subenglish', 'Abduction [2011]', 'En', 'The.Crying.Game.1992.480p.BluRay.x264-mSD', 'In.Time.2011.R5.PROPER.LiNE.XviD-Blackjesus', 'The Ring 2002 BRRip 720p DownSpaces', 'side.effects.2013.720p.bluray.x264-sparks_HI', 'Raging.Bull.1980.1080p.BluRay.x264.YIFY', 'Last.Night.2010.720p.Bluray.x264.anoXmous', '(eng)Searching.for.Sugar.Man.2012.720p.BRRip.x264.AC3-JYK', 'War.of.the.Worlds.2005.1080p.BluRay.x264.YIFY', 'TheSpectacularNow.brrip.720p.2013', 'Crimes.and.Misdemeanors.1989.720p.BluRay.X264-AMIABLE-SDH', 'Frozen 2013 DVDScr XViD AC3-FiNGERBLaST', 'Labor.Day.2013.720p.BluRay.x264-SPARKS.[PublicHD].CHI', 'The.Vow.2012.720p.BluRay.x264-YIFY.CHI', 'Tuck Everlasting', 'Dear.John.2010.720p.BluRay.x264-WiKi', 'Original.Sin.2001.1080p.BluRay.x264-THUGLiNE', 'A History of Violence 2005 BDRip 1080p x264 AAC- KiNGDOM', 'The.Giver.2014.720p.BluRay.x264-SPARKS', 'The.Babadook.2014.LIMITED.720p.BluRay.X264-AMIABLE', 'Freaky.Friday.2003.720p.WEB-DL.DD5.1.H264-RARBG', 'Horns.2013.1080p.BluRay.X264-AMIABLE', 'The.Drop.2014.WEB-DL.x264-RARBG', 'The.Adjustment.Bureau.2011.iNTERNAL.BDRip.x264-MARS1', 'Anjaan.2014.1080p.BluRay.x264.DTS.Esubs-TeamTR', 'Louis.CK.Live.At.The.Comedy.Store.2015.720p.WEBRip.XviD.MP3-RARBG', 'The.Next.Three.Days.2010.720p.BluRay.x264.MkvCage', 'Red.2010.720p.BluRay.x264.YIFY', 'Trouble With The Curve (2012)', 'The.Deer.Hunter.1978.720p.HDDVDRip.x264-PROGRESS_eng', '2044D', '6.Years', 'Disney One Magic Christmas 1985', 'Avalon High (2010)', 'The Straight Story_(1999)_en', 'Primer_(2004)_en', 'EN ori', 'Paranormal Activity 1 2007.eng', 'Regression.2015.LIMITED.720p.BluRay.X264-AMIABLE', 'Cocoon 1985 720p  BRRip x264 AAC - Ozlem', 'Desperado.1995.iNTERNAL.BDRip.x264-REGRET', 'The.Danish.Girl.2015.BDRip.x264-DiAMOND', 'The.5th.Wave.2016.720p.BluRay.x264.YIFY [YTS.AG]', 'Big.1988.Extended.Edition.1080p.BluRay.x264-Japhson', 'Her.2013.1080p.BluRay.x264.YIFY eng', 'The.Finest.Hours.2016.BDRip.x264-GECKOS.SDH', '10.Cloverfield.Lane.2016.720p.BRRip.x264.AAC-ETRG', 'Warm Bodies_(2013)_en', 'Song.for.Marion.2012.720p.BluRay.x264.YIFY', 'Krisha.2015.1080p.WEB-DL.DD5.1.H264-FGT', 'Solaris.2002.1080p.WEBRip.DD5.1.x264-FGT', 'Morgan.2016.BDRip.x264-GECKOS.SDH', 'Escape.to.Witch.Mountain.1975.720p.WEB-DL.DD5.1.H.264-alfaHD', 'The.Girl.on.the.Train.2016.BDRip.x264-SPARKS', 'Manchester.by.the.Sea.2016.BDRip.x264-GECKOS', 'Mean.Streets.1973.iNTERNAL.BDRip.x264-LiBRARiANS', 'Nocturnal.Animals.2016.720p.BluRay.x264.DTS-HDC.HI', 'Before Sunrise (1995).eng', 'K-19.The.Widowmaker.2002.BluRay.1080p.TrueHD.5.1.AVC.REMUX-FraMeSToR', 'La.La.Land.2016.1080p.WEB-DL.DD5.1.H264-FGT', 'Drive 1997 720 ENGLISH', 'Pusher (2012) HDRiP 720p-Eng', 'lovesong.2016.dvdrip.x264-wide', 'The Shack (2017)', 'Dangal.2016.BDRip.x264-ROVERS', 'Descendants.2.2017.WEBRip.x264-RARBG', 'confessions.of.a.teenage.drama.queen.2004.1080p.hdtv.x264-regret.eng', 'Pollyanna.1960.1080p.BluRay.x264.YIFY', 'The.Commuter.2018.BluRay-CHI', 'EN-SDH Ori', 'The.Parent.Trap.1998.1080p.BluRay.X264-AMIABLE', 'Holes.2003.1080p.BluRay.X264-AMIABLE', 'A.Wrinkle.in.Time.2018.1080p.BrRip.6CH.x265.HEVC-PSA', '500 Days of Summer (2009)', 'Freaky.Friday.2018.Web-Dl.Versions.En.By.MJBN', 'I.Am.Number.Four.2011.720p.BRRip.x264.YIFY', 'Memento.2000.REMASTERED.1080p.BluRay.x264-WLM.eng', 'Before.Sunset.2004.Remastered.720p.BRrip.x264.MkvCage', 'Taken I (2008) SRT BR 24.000 fps - 1 h 33 min 46 sec - Eng', 'Searching.2018.1080p.WEB-DL.H264.AC3-EVO-HI', 'Terra.2015.1080p.NF.WEB-DL.DD5.1.x264-monkee', 'A.Star.is.Born.2018.HC.HDRip.XviD.AC3-EVO-HI', 'First.Man.2018.720p.BluRay.x264-BLOW-HI', 'Bird.Box.2018.WEBRip.x264-STRiFE', 'Boy.Erased.2018.720p.BluRay.x264-DRONES', '12.Dates.of.Christmas.2011.1080p.AMZN.WEB-DL.DDP5.1.x264-ABM.eng', 'Triple.Frontier.2019.720p.NF.WEB-DL.DDP5.1.x264-NTG', 'Frank.And.Ollie.1995.1080p.WEBRip.x264-[YTS.AM]', 'Berlin.I.Love.You.2019.720p.BluRay.x264-ROVERS', 'The.Wandering.Earth.2019.720p.NF.WEB-DL.DDP5.1.x264-NTG', 'I.Am.Mother.WEBRip.Netflix.en', 'The.Edge.Of.Democracy.[2019].NF.Web-DL.Eng.en', 'The First Line_HI.en', 'The First Line_NON-HI.en', 'Descendants.3.2019.DVDRip.XviD.AC3-EVO-HI', 'Barcelona.A.Love.Untold.2016.WEBRip.x264-ION10', 'Rookie.of.the.Year.1993.1080p.AMZN.WEBRip.DDP5.1.x264-QOQ', 'Scarface.1983.REMASTERED.1080p.BluRay.X264-AMIABLE-HI', 'It.Chapter.Two.2019.720p.HC.HDRip.900MB.x264-GalaxyRG - COLORED', 'Gemini Man 2019 HC HDRip XviD AC3-EVO', 'Marriage.Story.2019.INTERNAL.720p.WEB.x264-STRiFE-HI', 'Joker.2019.720p.WEBRip.900MB.x264-GalaxyRG', 'Frozen.II.2019.720p.BluRay.x264-YOL0W', 'Dolphin.Reef.2020.HDR.2160p.WEB.H265-SECRECY', 'Dangerous.Lies.2020.720p.NF.WEB-DL.DDP5.1.x264-NTG-HI', 'A.Secret.Love.2020.WEBRip.x264-ION10', 'Insidious.2010.1080p.BluRay.x265-RARBG', \"Winter's Bone 2010 1080p BDRip H264 AAC - KiNGDOM_[ENG]\", 'Melody.Time.1948.WEB-DL.DSNP', 'The.Adventures.of.Huck.Finn.1993.WEB-DL.DSNP', 'Eight.Below.2006.WEB-DL.DSNP', 'Almost.Angels.1962.WEB-DL.DSNP', 'The.African.Lion.1955.WEB-DL.DSNP', 'Saw II (2005)', 'In.The.Tall.Grass.2019.iNTERNAL.HDR.1080p.WEB.H265-iNSiDiOUS', 'Prisoners.2013.REMUX.1080p.Blu-ray.AVC.DTS-HD.MA.5.1-LEGi0N', 'Amy.1981.WEB-DL.DSNP', 'Hot.Gimmick.Girl.Meets.Boy.2019.Retail.NORDiC.720p.BDRip.x264.AAC-BAGPARTiET.eng', 'Crown, The S01E01 - Wolferton Splash.en', 'Crazy4TV.com - Suits.S06E14.720p.BluRay.x265.HEVC.Crazy4ad', 'Suits.S01E05.1080p.BluRay.AAC5.1.x265-DTG.02.EN', 'Crown, The S01E09 - Assassins.en.SDH', 'Crown, The S01E05 - Smoke and Mirrors.en.SDH', 'Suits.S02E08.HDTV.x264-EVOLVE', 'Suits.S02E11.HDTV.x264-ASAP', 'Crown, The S01E04 - Act of God.en', 'Virgin.River.S01E05.INTERNAL.720p.WEB.x264-STRiFE', 'Suits.S01E06.1080p.BluRay.AAC5.1.x265-DTG.02.EN', 'Suits.S02E09.HDTV.x264-ASAP', 'Suits.S02E04.HDTV.x264-ASAP', 'Crown, The S01E07 - Scientia Potentia Est.en', 'Suits.Episode 1- Denial', 'Suits.S01E09.1080p.BluRay.AAC5.1.x265-DTG.02.EN', 'Suits.S02E14.HDTV.x264-ASAP', 'Virgin.River.S01E07.INTERNAL.720p.WEB.x264-STRiFE', 'icarus.2017.web.x264-strife', 'Crazy4TV.com - Suits.S06E15.720p.BluRay.x265.HEVC.Crazy4ad', 'Crown, The S01E10 - Gloriana.en', 'Crown, The S01E05 - Smoke and Mirrors.en', 'Suits.Episode 16- 25th Hour', 'Crown, The S01E04 - Act of God.en.SDH', 'Virgin.River.S01E06.INTERNAL.720p.WEB.x264-STRiFE', 'Suits.S02E13.REPACK.HDTV.x264-2HD', 'Suits.Episode 4- No Puedo Hacerlo', 'Crazy4TV.com - Suits.S06E06.720p.BluRay.x265.HEVC.Crazy4ad', 'Crazy4TV.com - Suits.S06E07.720p.BluRay.x265.HEVC.Crazy4ad', 'Roman Holiday 1953 1080p WEBRip HEVC AAC', 'Virgin.River.S01E08.INTERNAL.720p.WEB.x264-STRiFE', 'Suits.Episode 3- No Refills', 'Suits.Episode 11- Blowback', 'Crazy4TV.com - Suits.S06E12.720p.BluRay.x265.HEVC.Crazy4ad', \"Suits.Episode 13- God's Green Earth\", 'Crown, The S01E03 - Windsor.en', 'Suits.Episode 14- Self Defense', 'Virgin.River.S01E04.INTERNAL.720p.WEB.x264-STRiFE', 'The.Sound.of.Music.1965.WEBRip.iTunes', 'The Walking Dead-S01E06-TS-19.English', 'The.Grinch.2018.REMUX.1080p.Blu-ray.AVC.TrueHD.DTS-HD.MA.7.1-LEGi0N.English', 'Downton Abbey - S01E03 - Episode 3.eng.SDH', 'Virgin.River.S01E01.INTERNAL.720p.WEB.x264-STRiFE', 'Suits.S02E01.HDTV.x264-AVS', 'Crown, The S01E10 - Gloriana.en.SDH', 'Suits.S02E05.iNTERNAL.HDTV.x264-2HD', 'Crown, The S01E01 - Wolferton Splash.en.SDH', 'Suits.S02E15.HDTV.x264-ASAP', 'Crown, The S01E08 - Pride & Joy.en.SDH', 'Suits S04E07 EngSub', 'Virgin.River.S01E10.INTERNAL.720p.WEB.x264-STRiFE', 'Suits.S03E09.480p.HDTV.x264-mSD', 'Crazy4TV.com - Suits.S06E08.720p.BluRay.x265.HEVC.Crazy4ad', 'Suits.Episode 10- Faith', 'Virgin.River.S01E02.INTERNAL.720p.WEB.x264-STRiFE', 'Suits.S01E12.1080p.BluRay.AAC5.1.x265-DTG.02.EN', 'Suits.S01E11.1080p.BluRay.AAC5.1.x265-DTG.02.EN', 'Crown, The S01E05 - Smoke and Mirrors.en.FORCED', 'Virgin.River.S01E09.INTERNAL.720p.WEB.x264-STRiFE', 'Virgin.River.S01E03.INTERNAL.720p.WEB.x264-STRiFE', 'Downton Abbey - S01E07 - Episode 7.eng.SDH', 'Crazy4TV.com - Suits.S06E10.720p.BluRay.x265.HEVC.Crazy4ad', 'Crown, The S01E06 - Gelignite.en', 'Suits.S01E03.1080p.BluRay.AAC5.1.x265-DTG.02.EN', \"Angela's.Christmas.2018.WEBRip.Netflix\", 'Suits S04E01 EngSub', 'Suits.Episode 9- Uninvited Guests', 'Downton Abbey - S01E01 - Episode 1.eng.SDH', 'Suits.S01E02.1080p.BluRay.AAC5.1.x265-DTG.02.EN', 'Suits.S01E01.1080p.BluRay.AAC5.1.x265-DTG.02.EN', 'Suits.S03E01.480pHDTV.x264-mSD', 'Suits.S01E04.1080p.BluRay.AAC5.1.x265-DTG.02.EN', 'Suits.S03E05.480p.HDTV.x264-mSD', 'Suits.S02E10.HDTV.x264-ASAP', 'Suits S04E14 EngSub', 'Suits.Episode 7- Hitting Home', 'Crown, The S01E02 - Hyde Park Corner.en', 'Crown, The S01E09 - Assassins.en', 'Suits.S03E02.720pHDTV.x264-mSD', 'z srt23 uk-bun Gullivers.Travels.1939.720p.BluRay.x264-CiNEFiLE', 'Suits S04E02 EngSub', 'Suits.Episode 2- Compensation', 'Suits.S01E08.1080p.BluRay.AAC5.1.x265-DTG.02.EN', 'Crazy4TV.com - Suits.S06E04.720p.BluRay.x265.HEVC.Crazy4ad', 'Suits S04E09 EngSub', 'Suits.Episode 15- Tick Tock', 'Crazy4TV.com - Suits.S06E02.720p.BluRay.x265.HEVC.Crazy4ad', 'Suits.S03E03.480pHDTV.x264-mSD', 'Suits.S02E03.HDTV.x264-ASAP', 'Suits.S02E02.HDTV.x264-ASAP', 'Suits.S03E08.480p.HDTV.x264-mSD', 'Suits S04E15 EngSub', 'The Walking Dead-S01E03-Tell It To The Frogs.English', 'Crazy4TV.com - Suits.S06E13.720p.BluRay.x265.HEVC.Crazy4ad', 'Crazy4TV.com - Suits.S06E05.720p.BluRay.x265.HEVC.Crazy4ad', 'Crown, The S01E10 - Gloriana.en.FORCED', 'Crown, The S01E07 - Scientia Potentia Est.en.SDH', \"Secrets Of Her Majesty's Secret Service eng\", 'Suits.Episode 8- Mea Culpa', 'Suits.S02E07.Sucker.Punch.PROPER.HDTV.x264-FQM', 'Suits.Episode 5- Toe to Toe', 'Frozen.2013.WEB-DL.DSNP', 'Crazy4TV.com - Suits.S06E16.720p.BluRay.x265.HEVC.Crazy4ad', 'Suits.S03E10.HDTV.x264-mSD', 'Downton Abbey - S01E02 - Episode 2.eng.SDH', 'Crown, The S01E03 - Windsor.en.FORCED', 'Suits.Episode 6- Privilege', 'The Walking Dead-S01E05-Wildfire.English', 'Suits S04E05 EngSub', 'Downton Abbey - S01E05 - Episode 5.eng.SDH', 'Suits S04E11 EngSub', 'Suits.Episode 12- Live to Fight', 'Suits.S02E16.HDTV.x264-2HD', 'Suits.S03E04.480pHDTV.x264-mSD', 'Suits S04E04 EngSub', 'Downton Abbey - S01E06 - Episode 6.eng.SDH', 'Suits.S03E06.720p.HDTV.x264-mSD', 'The Walking Dead-S01E02-Guts.English', 'Suits S04E16 EngSub', 'Suits S04E06 EngSub', 'Crazy4TV.com - Suits.S06E11.720p.BluRay.x265.HEVC.Crazy4ad', 'Crown, The S01E06 - Gelignite.en.SDH', 'Suits.S02E06.All.In.HDTV.x264-FQM', 'The.True.Cost.2015.BluRay.720p.700MB.Ganool.com', 'Crazy4TV.com - Suits.S06E01.720p.BluRay.x265.HEVC.Crazy4ad', 'SOMM.Into.the.Bottle.2015.1080p.BluRay.x265-RARBG.en.srt', 'The Walking Dead-S01E01-Days Gone Bye.English', 'Crazy4TV.com - Suits.S06E09.720p.BluRay.x265.HEVC.Crazy4ad', 'Suits.S02E12.HDTV.x264-ASAP', 'Suits S04E10 EngSub', 'Crown, The S01E07 - Scientia Potentia Est.en.FORCED', 'Suits S04E08 EngSub', 'Crown, The S01E02 - Hyde Park Corner.en.SDH', 'Suits.S01E07.1080p.BluRay.AAC5.1.x265-DTG.02.EN', 'Suits S04E13 EngSub', 'Crazy4TV.com - Suits.S06E03.720p.BluRay.x265.HEVC.Crazy4ad', 'Suits.S01E10.1080p.BluRay.AAC5.1.x265-DTG.02.EN', 'Downton Abbey - S01E04 - Episode 4.eng.SDH', 'The Walking Dead-S01E04-Vatos.English', 'Crown, The S01E08 - Pride & Joy.en', 'Crown, The S01E03 - Windsor.en.SDH', 'Ghosts.of.Girlfriends.Past.2009.BluRay.720p.x264.YIFY', 'The_Shawshank_redemption(1994)', 'The_graduate(1967)', 'Despicable_Me(2010)', 'Oceans_Eleven(2001)', 'mechanic-resurrection_', 'Clueless(1995)', 'Zootopia(2016)', 'While_You_Were_Sleeping(1995)', 'Entrapment', 'Seven.Worlds.One.Planet.S01E07.2160p.BluRay.Remux.eng', 'The_invisible_man(2020)', 'Love_actually(2003)', 'Titanic(1997)', 'A_star_is_born(2018)', 'Eurovision_song_contest_(2020)', 'Seven.Worlds.One.Planet.S01E02.2160p.BluRay.Remux.eng', 'The_hangover(2009)', 'Suits S04E03 EngSub', 'Pulp_fiction(1994)', 'All_dogs_go_to_heaven(1989)', 'Oceans_Twelve(2004)', 'Deadpool(2016)', 'Seven.Worlds.One.Planet.S01E05.2160p.BluRay.Remux.eng', 'The_secret_life_of_Walter_Mitty(2013)', 'Bridget_Jones_diary(2001)', 'Seven.Worlds.One.Planet.S01E03.2160p.BluRay.Remux.eng', 'House_of_Gucci(2021)', 'Seven.Worlds.One.Planet.S01E04.2160p.BluRay.Remux.eng', 'Powder(1995)', 'The_terminal(2004)', \"Valentine's.Day.2010.Subtitles.YIFY\", 'Twilight(2008)', 'Knives_out(2019)', 'My_big_fat_Greek_wedding(2002)', 'Shrek(2001)', 'Seven.Worlds.One.Planet.S01E01.2160p.BluRay.Remux.eng', 'Home_alone(1990)', 'The_usual_suspects(1995)', 'Indiana Jones And The Last Crusade DVDRip Xvid -IZON-', 'Braveheart(1995)', 'The_theory_of_everything(2014)', 'Made_of_Honor(2008)', 'Charlie_and_the_Chocolate_Factory', 'Spirit.Stallion.of.the.Cimarron.EN', 'Westworld_scenes_of_Dr_Robert_Ford', 'AmericanBeauty1999.BRRip', 'Ready_or_not(2019)', 'The_break-up(2006)', 'Back_to_the_future(1985)', 'Liar_liar(1997)', 'Before_I_go_to_sleep(2014)', 'Beauty_and_the_beast(2017)', 'Before_sunrise(1995)', 'Its_a_wonderful_life(1946)', 'Up(2009)', 'Terminator_2_Judgment_Day_1991_roNy', 'We_are_the_Millers(2013)', 'The_Ghost_Writer', 'Mary_Poppins_returns(2018)', 'Seven.Worlds.One.Planet.S01E06.2160p.BluRay.Remux.eng', 'Lion(2016)', 'Enola_Holmes(2020)', 'Klaus(2019)', 'The_cabin_in_the_woods(2012)', 'The_lion_king(1994)', 'Milada(2017)', 'Gogo_Loves_English', 'Good_Will_Hunting(1997)', 'The_fault_in_our_stars(2014)', 'Toy_story(1995)', 'Pleasantville(1998)', 'An_American_tail(1986)', 'Die_hard(1988)', 'A_knights_tale(2001)', 'Forrest_Gump(1994)', 'Pirates_of_the_Caribbean(2003)', '10_Cloverfield_lane(2016)', 'Mrs_Doubtfire(1993)', 'The_holiday(2006)', 'Sleepless_in_Seattle(1993)', 'The_Devil_Wears_Prad', 'Dredd(2012)', 'Harry_Potter_and_the_philosophers_stone(2001)', 'Cast_away(2000)', 'Babe(1995)', 'Pride_and_Prejudice', 'The_lord_of_the_rings(2001)', 'Casper', 'Ferdinand(2017)', 'The_man_called_Flintstone(1966)', 'Breaking_Bad_The_Movie(2017)', 'Warm_bodies(2013)', '10_things_I_hate_about_you(1999)', 'The_Legend_of_Tarzan(2016)', 'SlingShot (2014) WEB.eng', 'Cars(2006)', 'Suits.S03E07.HDTV.x264-mSD', 'The_terminator(1984)', 'The_jungle_book(2016)', 'Venom(2018)', 'Angelas.Christmas.Wish.2020', 'The_social_network(2010)', 'Moulin_Rouge(2001)', 'Fight_club(1999)', 'Groundhog_day(1993)', 'Bridget_Joness_Baby', 'Logan(2017)', 'Rat.Race.2001.1080p.WEB-DL.DD5.1.H264-FGT', 'Men.In.Black.1997.720p.Bluray.x264-SEPTiC', 'Ratatouille(2007)', 'Mamma_Mia(2008)', 'Banking_On_Bitcoin(2016)', 'Suits S04E12 EngSub', 'The_Intern(2015)', 'Soul(2020)', 'Batman_begins(2005)', 'Dune(2021)', 'Kubo_and_the_two_strings(2016)', 'Catch_me_if_you_can(2002)', 'Finding_Nemo(2003)', 'The_blind_side(2009)', 'Inside_out(2015)', 'Meet_the_parents(2000)', 'Bren╨Т.Brown.The.Call.to.Courage.2019.720.NF.720p.DDP.5.1.x264-CafeFlix', 'The_Fundamentals_of_Caring(2016)', 'Hook(1991)', 'Notting_Hill(1999)', 'The_kings_speech(2010)', 'Aladdin(1992)', 'Her(2013)', 'Cinderella(1950)', 'Before_sunset(2004)', 'Matilda(1996)', 'Mona_Lisa_Smile(2003)', 'The_greatest_showman(2017)', 'The.Last.Song.2010.PROPER.DVDRip.XviD-iLG', 'Petes.Dragon.2016.720p.BRRip.x264.AAC-ETRG', 'TheSmurfs2.brrip.720p.2013', 'The.Notebook.DVDRip.XviD-DiAMOND', 'Collateral.Beauty.2016.720p.BRRip.x264.AAC-ETRG']\n"
          ]
        },
        {
          "output_type": "execute_result",
          "data": {
            "text/plain": [
              "                                                 Movie   Level  \\\n",
              "0                            10_Cloverfield_lane(2016)      B1   \n",
              "1                     10_things_I_hate_about_you(1999)      B1   \n",
              "2                                 A_knights_tale(2001)      B2   \n",
              "3                                 A_star_is_born(2018)      B2   \n",
              "4                                        Aladdin(1992)  A2/A2+   \n",
              "..                                                 ...     ...   \n",
              "381          Vicky.Cristina.Barcelona[2008]DvDrip-aXXo      C1   \n",
              "382                              Warm Bodies_(2013)_en      C1   \n",
              "383  (eng)Searching.for.Sugar.Man.2012.720p.BRRip.x...      C1   \n",
              "384  10.Cloverfield.Lane.2016.720p.BRRip.x264.AAC-ETRG      C1   \n",
              "385                                   Abduction [2011]      C1   \n",
              "\n",
              "                                                 Texts  \n",
              "0    <font color=\"#ffff80\"><b>Fixed & Synced by boz...  \n",
              "1    Hey!\\nI'll be right with you.\\nSo, Cameron. He...  \n",
              "2    Resync: Xenzai[NEF]\\nRETAIL\\nShould we help hi...  \n",
              "3    - <i><font color=\"#ffffff\"> Synced and correct...  \n",
              "4    <i>Oh, I come from a land\\nFrom a faraway plac...  \n",
              "..                                                 ...  \n",
              "381  Vicky and Cristina decided\\nto spend the summe...  \n",
              "382  <i>What am I doing with my life?</i>\\n<i>I'm s...  \n",
              "383  (# Sugar Man by Rodriguez)\\n<i># Sugar Man, wo...  \n",
              "384  <font color=\"#D900D9\">(CLANGING)</font>\\n<font...  \n",
              "385  Let's go party.\\nYeah, baby.\\nYeah. Gilly, get...  \n",
              "\n",
              "[386 rows x 3 columns]"
            ],
            "text/html": [
              "\n",
              "  <div id=\"df-dd807585-a07c-4828-8b5c-f249a70579fc\">\n",
              "    <div class=\"colab-df-container\">\n",
              "      <div>\n",
              "<style scoped>\n",
              "    .dataframe tbody tr th:only-of-type {\n",
              "        vertical-align: middle;\n",
              "    }\n",
              "\n",
              "    .dataframe tbody tr th {\n",
              "        vertical-align: top;\n",
              "    }\n",
              "\n",
              "    .dataframe thead th {\n",
              "        text-align: right;\n",
              "    }\n",
              "</style>\n",
              "<table border=\"1\" class=\"dataframe\">\n",
              "  <thead>\n",
              "    <tr style=\"text-align: right;\">\n",
              "      <th></th>\n",
              "      <th>Movie</th>\n",
              "      <th>Level</th>\n",
              "      <th>Texts</th>\n",
              "    </tr>\n",
              "  </thead>\n",
              "  <tbody>\n",
              "    <tr>\n",
              "      <th>0</th>\n",
              "      <td>10_Cloverfield_lane(2016)</td>\n",
              "      <td>B1</td>\n",
              "      <td>&lt;font color=\"#ffff80\"&gt;&lt;b&gt;Fixed &amp; Synced by boz...</td>\n",
              "    </tr>\n",
              "    <tr>\n",
              "      <th>1</th>\n",
              "      <td>10_things_I_hate_about_you(1999)</td>\n",
              "      <td>B1</td>\n",
              "      <td>Hey!\\nI'll be right with you.\\nSo, Cameron. He...</td>\n",
              "    </tr>\n",
              "    <tr>\n",
              "      <th>2</th>\n",
              "      <td>A_knights_tale(2001)</td>\n",
              "      <td>B2</td>\n",
              "      <td>Resync: Xenzai[NEF]\\nRETAIL\\nShould we help hi...</td>\n",
              "    </tr>\n",
              "    <tr>\n",
              "      <th>3</th>\n",
              "      <td>A_star_is_born(2018)</td>\n",
              "      <td>B2</td>\n",
              "      <td>- &lt;i&gt;&lt;font color=\"#ffffff\"&gt; Synced and correct...</td>\n",
              "    </tr>\n",
              "    <tr>\n",
              "      <th>4</th>\n",
              "      <td>Aladdin(1992)</td>\n",
              "      <td>A2/A2+</td>\n",
              "      <td>&lt;i&gt;Oh, I come from a land\\nFrom a faraway plac...</td>\n",
              "    </tr>\n",
              "    <tr>\n",
              "      <th>...</th>\n",
              "      <td>...</td>\n",
              "      <td>...</td>\n",
              "      <td>...</td>\n",
              "    </tr>\n",
              "    <tr>\n",
              "      <th>381</th>\n",
              "      <td>Vicky.Cristina.Barcelona[2008]DvDrip-aXXo</td>\n",
              "      <td>C1</td>\n",
              "      <td>Vicky and Cristina decided\\nto spend the summe...</td>\n",
              "    </tr>\n",
              "    <tr>\n",
              "      <th>382</th>\n",
              "      <td>Warm Bodies_(2013)_en</td>\n",
              "      <td>C1</td>\n",
              "      <td>&lt;i&gt;What am I doing with my life?&lt;/i&gt;\\n&lt;i&gt;I'm s...</td>\n",
              "    </tr>\n",
              "    <tr>\n",
              "      <th>383</th>\n",
              "      <td>(eng)Searching.for.Sugar.Man.2012.720p.BRRip.x...</td>\n",
              "      <td>C1</td>\n",
              "      <td>(# Sugar Man by Rodriguez)\\n&lt;i&gt;# Sugar Man, wo...</td>\n",
              "    </tr>\n",
              "    <tr>\n",
              "      <th>384</th>\n",
              "      <td>10.Cloverfield.Lane.2016.720p.BRRip.x264.AAC-ETRG</td>\n",
              "      <td>C1</td>\n",
              "      <td>&lt;font color=\"#D900D9\"&gt;(CLANGING)&lt;/font&gt;\\n&lt;font...</td>\n",
              "    </tr>\n",
              "    <tr>\n",
              "      <th>385</th>\n",
              "      <td>Abduction [2011]</td>\n",
              "      <td>C1</td>\n",
              "      <td>Let's go party.\\nYeah, baby.\\nYeah. Gilly, get...</td>\n",
              "    </tr>\n",
              "  </tbody>\n",
              "</table>\n",
              "<p>386 rows × 3 columns</p>\n",
              "</div>\n",
              "      <button class=\"colab-df-convert\" onclick=\"convertToInteractive('df-dd807585-a07c-4828-8b5c-f249a70579fc')\"\n",
              "              title=\"Convert this dataframe to an interactive table.\"\n",
              "              style=\"display:none;\">\n",
              "        \n",
              "  <svg xmlns=\"http://www.w3.org/2000/svg\" height=\"24px\"viewBox=\"0 0 24 24\"\n",
              "       width=\"24px\">\n",
              "    <path d=\"M0 0h24v24H0V0z\" fill=\"none\"/>\n",
              "    <path d=\"M18.56 5.44l.94 2.06.94-2.06 2.06-.94-2.06-.94-.94-2.06-.94 2.06-2.06.94zm-11 1L8.5 8.5l.94-2.06 2.06-.94-2.06-.94L8.5 2.5l-.94 2.06-2.06.94zm10 10l.94 2.06.94-2.06 2.06-.94-2.06-.94-.94-2.06-.94 2.06-2.06.94z\"/><path d=\"M17.41 7.96l-1.37-1.37c-.4-.4-.92-.59-1.43-.59-.52 0-1.04.2-1.43.59L10.3 9.45l-7.72 7.72c-.78.78-.78 2.05 0 2.83L4 21.41c.39.39.9.59 1.41.59.51 0 1.02-.2 1.41-.59l7.78-7.78 2.81-2.81c.8-.78.8-2.07 0-2.86zM5.41 20L4 18.59l7.72-7.72 1.47 1.35L5.41 20z\"/>\n",
              "  </svg>\n",
              "      </button>\n",
              "      \n",
              "  <style>\n",
              "    .colab-df-container {\n",
              "      display:flex;\n",
              "      flex-wrap:wrap;\n",
              "      gap: 12px;\n",
              "    }\n",
              "\n",
              "    .colab-df-convert {\n",
              "      background-color: #E8F0FE;\n",
              "      border: none;\n",
              "      border-radius: 50%;\n",
              "      cursor: pointer;\n",
              "      display: none;\n",
              "      fill: #1967D2;\n",
              "      height: 32px;\n",
              "      padding: 0 0 0 0;\n",
              "      width: 32px;\n",
              "    }\n",
              "\n",
              "    .colab-df-convert:hover {\n",
              "      background-color: #E2EBFA;\n",
              "      box-shadow: 0px 1px 2px rgba(60, 64, 67, 0.3), 0px 1px 3px 1px rgba(60, 64, 67, 0.15);\n",
              "      fill: #174EA6;\n",
              "    }\n",
              "\n",
              "    [theme=dark] .colab-df-convert {\n",
              "      background-color: #3B4455;\n",
              "      fill: #D2E3FC;\n",
              "    }\n",
              "\n",
              "    [theme=dark] .colab-df-convert:hover {\n",
              "      background-color: #434B5C;\n",
              "      box-shadow: 0px 1px 3px 1px rgba(0, 0, 0, 0.15);\n",
              "      filter: drop-shadow(0px 1px 2px rgba(0, 0, 0, 0.3));\n",
              "      fill: #FFFFFF;\n",
              "    }\n",
              "  </style>\n",
              "\n",
              "      <script>\n",
              "        const buttonEl =\n",
              "          document.querySelector('#df-dd807585-a07c-4828-8b5c-f249a70579fc button.colab-df-convert');\n",
              "        buttonEl.style.display =\n",
              "          google.colab.kernel.accessAllowed ? 'block' : 'none';\n",
              "\n",
              "        async function convertToInteractive(key) {\n",
              "          const element = document.querySelector('#df-dd807585-a07c-4828-8b5c-f249a70579fc');\n",
              "          const dataTable =\n",
              "            await google.colab.kernel.invokeFunction('convertToInteractive',\n",
              "                                                     [key], {});\n",
              "          if (!dataTable) return;\n",
              "\n",
              "          const docLinkHtml = 'Like what you see? Visit the ' +\n",
              "            '<a target=\"_blank\" href=https://colab.research.google.com/notebooks/data_table.ipynb>data table notebook</a>'\n",
              "            + ' to learn more about interactive tables.';\n",
              "          element.innerHTML = '';\n",
              "          dataTable['output_type'] = 'display_data';\n",
              "          await google.colab.output.renderOutput(dataTable, element);\n",
              "          const docLink = document.createElement('div');\n",
              "          docLink.innerHTML = docLinkHtml;\n",
              "          element.appendChild(docLink);\n",
              "        }\n",
              "      </script>\n",
              "    </div>\n",
              "  </div>\n",
              "  "
            ]
          },
          "metadata": {},
          "execution_count": 101
        }
      ]
    },
    {
      "cell_type": "code",
      "source": [
        "#Изучим текущее распределение данных\n",
        "sns.countplot(data=updated_df, x=\"Level\")"
      ],
      "metadata": {
        "colab": {
          "base_uri": "https://localhost:8080/",
          "height": 466
        },
        "id": "ou3hA4YlGCOj",
        "outputId": "c4b62fc5-4888-4751-f7cc-b406e86ad2a6"
      },
      "execution_count": null,
      "outputs": [
        {
          "output_type": "execute_result",
          "data": {
            "text/plain": [
              "<Axes: xlabel='Level', ylabel='count'>"
            ]
          },
          "metadata": {},
          "execution_count": 102
        },
        {
          "output_type": "display_data",
          "data": {
            "text/plain": [
              "<Figure size 640x480 with 1 Axes>"
            ],
            "image/png": "[encoded data removed]"
          },
          "metadata": {}
        }
      ]
    },
    {
      "cell_type": "code",
      "source": [
        "for i in range(len(updated_df['Level'])):\n",
        "  if updated_df.loc[i, 'Level'] == 'A2/A2+':\n",
        "    updated_df.loc[i, 'Level'] = 'A2'\n",
        "  elif updated_df.loc[i, 'Level'] == 'B1, B2':\n",
        "    updated_df.loc[i, 'Level'] = 'B1'\n",
        "  elif updated_df.loc[i, 'Level'] == 'А2':\n",
        "    updated_df.loc[i, 'Level'] = 'A2'\n",
        "  elif updated_df.loc[i, 'Level'] == 'A2/A2+, B1':\n",
        "     updated_df.loc[i, 'Level'] = 'A2'\n",
        "\n",
        "sns.countplot(data=updated_df, x=\"Level\")\n",
        "updated_df['Level'].value_counts()\n",
        "#Не идеально, но уже значительно лучше"
      ],
      "metadata": {
        "colab": {
          "base_uri": "https://localhost:8080/",
          "height": 536
        },
        "id": "uePmBfF9J0lg",
        "outputId": "1f9eb4eb-86f2-47c0-977a-58e345ce5c1b"
      },
      "execution_count": null,
      "outputs": [
        {
          "output_type": "execute_result",
          "data": {
            "text/plain": [
              "B1    97\n",
              "B2    97\n",
              "A2    97\n",
              "C1    95\n",
              "Name: Level, dtype: int64"
            ]
          },
          "metadata": {},
          "execution_count": 105
        },
        {
          "output_type": "display_data",
          "data": {
            "text/plain": [
              "<Figure size 640x480 with 1 Axes>"
            ],
            "image/png": "[encoded data removed]"
          },
          "metadata": {}
        }
      ]
    },
    {
      "cell_type": "code",
      "source": [
        "# создаем список для хранения очищенных данных\n",
        "updated_cleaned_text = []\n",
        "\n",
        "for text in updated_df['Texts']:\n",
        "    # очищаем данные\n",
        "    text = re.sub(\"[^a-zA-Z]\",\" \",text)\n",
        "    # приводим текст к нижнему регистру\n",
        "    text = text.lower()\n",
        "    # удаляем лишние пробелы\n",
        "    text = re.sub(r'\\s+', ' ', text)\n",
        "    # Производим токенизацию\n",
        "    text = word_tokenize(text)\n",
        "    # с помощью цикла for поочередно проверяем каждое слово(токен) текущего сообщения\n",
        "    # на вхождение в список стоп-слов. Если токен не является стоп-словом, то добавляем его в список\n",
        "    text = [word for word in text if word not in stop_words]\n",
        "    # для каждого слова из текущего сообщения вызываем функцию лемматизации\n",
        "    text = [lemma(wd) for wd in text]\n",
        "    # И приводим датасет в итоговому виду\n",
        "    text = \" \".join(text)\n",
        "    # добавляем очищенные данные в список cleaned_text\n",
        "    updated_cleaned_text.append(text)\n",
        "# записываем очищенные данные в новую колонку 'Cleaned_txt'\n",
        "updated_df['Cleaned_txt'] = updated_cleaned_text\n",
        "# и изучаем результат\n",
        "updated_df"
      ],
      "metadata": {
        "colab": {
          "base_uri": "https://localhost:8080/",
          "height": 519
        },
        "id": "L9TR7idIKI-8",
        "outputId": "1f8fe612-c4ce-43ec-fd55-e7981404c601"
      },
      "execution_count": null,
      "outputs": [
        {
          "output_type": "execute_result",
          "data": {
            "text/plain": [
              "                                                 Movie Level  \\\n",
              "0                            10_Cloverfield_lane(2016)    B1   \n",
              "1                     10_things_I_hate_about_you(1999)    B1   \n",
              "2                                 A_knights_tale(2001)    B2   \n",
              "3                                 A_star_is_born(2018)    B2   \n",
              "4                                        Aladdin(1992)    A2   \n",
              "..                                                 ...   ...   \n",
              "381          Vicky.Cristina.Barcelona[2008]DvDrip-aXXo    C1   \n",
              "382                              Warm Bodies_(2013)_en    C1   \n",
              "383  (eng)Searching.for.Sugar.Man.2012.720p.BRRip.x...    C1   \n",
              "384  10.Cloverfield.Lane.2016.720p.BRRip.x264.AAC-ETRG    C1   \n",
              "385                                   Abduction [2011]    C1   \n",
              "\n",
              "                                                 Texts  \\\n",
              "0    <font color=\"#ffff80\"><b>Fixed & Synced by boz...   \n",
              "1    Hey!\\nI'll be right with you.\\nSo, Cameron. He...   \n",
              "2    Resync: Xenzai[NEF]\\nRETAIL\\nShould we help hi...   \n",
              "3    - <i><font color=\"#ffffff\"> Synced and correct...   \n",
              "4    <i>Oh, I come from a land\\nFrom a faraway plac...   \n",
              "..                                                 ...   \n",
              "381  Vicky and Cristina decided\\nto spend the summe...   \n",
              "382  <i>What am I doing with my life?</i>\\n<i>I'm s...   \n",
              "383  (# Sugar Man by Rodriguez)\\n<i># Sugar Man, wo...   \n",
              "384  <font color=\"#D900D9\">(CLANGING)</font>\\n<font...   \n",
              "385  Let's go party.\\nYeah, baby.\\nYeah. Gilly, get...   \n",
              "\n",
              "                                           Cleaned_txt  \n",
              "0    color ffff b fix sync bozxphd enjoy flick b cl...  \n",
              "1    hey right cameron go nine school year army bra...  \n",
              "2    resync xenzai nef retail help due list two min...  \n",
              "3    color ffffff sync correct b color ffd mrcjnthn...  \n",
              "4    oh come land faraway place caravan camel roam ...  \n",
              "..                                                 ...  \n",
              "381  vicky cristina decide spend summer barcelona v...  \n",
              "382  life pale get eat better posture terrible stan...  \n",
              "383  sugar man rodriguez sugar man hurry co tire sc...  \n",
              "384  color clang color drawer close color inaudible...  \n",
              "385  let go party yeah baby yeah gilly get yeah yea...  \n",
              "\n",
              "[386 rows x 4 columns]"
            ],
            "text/html": [
              "\n",
              "  <div id=\"df-a3266a2f-b549-43c8-940f-e77d8e730abf\">\n",
              "    <div class=\"colab-df-container\">\n",
              "      <div>\n",
              "<style scoped>\n",
              "    .dataframe tbody tr th:only-of-type {\n",
              "        vertical-align: middle;\n",
              "    }\n",
              "\n",
              "    .dataframe tbody tr th {\n",
              "        vertical-align: top;\n",
              "    }\n",
              "\n",
              "    .dataframe thead th {\n",
              "        text-align: right;\n",
              "    }\n",
              "</style>\n",
              "<table border=\"1\" class=\"dataframe\">\n",
              "  <thead>\n",
              "    <tr style=\"text-align: right;\">\n",
              "      <th></th>\n",
              "      <th>Movie</th>\n",
              "      <th>Level</th>\n",
              "      <th>Texts</th>\n",
              "      <th>Cleaned_txt</th>\n",
              "    </tr>\n",
              "  </thead>\n",
              "  <tbody>\n",
              "    <tr>\n",
              "      <th>0</th>\n",
              "      <td>10_Cloverfield_lane(2016)</td>\n",
              "      <td>B1</td>\n",
              "      <td>&lt;font color=\"#ffff80\"&gt;&lt;b&gt;Fixed &amp; Synced by boz...</td>\n",
              "      <td>color ffff b fix sync bozxphd enjoy flick b cl...</td>\n",
              "    </tr>\n",
              "    <tr>\n",
              "      <th>1</th>\n",
              "      <td>10_things_I_hate_about_you(1999)</td>\n",
              "      <td>B1</td>\n",
              "      <td>Hey!\\nI'll be right with you.\\nSo, Cameron. He...</td>\n",
              "      <td>hey right cameron go nine school year army bra...</td>\n",
              "    </tr>\n",
              "    <tr>\n",
              "      <th>2</th>\n",
              "      <td>A_knights_tale(2001)</td>\n",
              "      <td>B2</td>\n",
              "      <td>Resync: Xenzai[NEF]\\nRETAIL\\nShould we help hi...</td>\n",
              "      <td>resync xenzai nef retail help due list two min...</td>\n",
              "    </tr>\n",
              "    <tr>\n",
              "      <th>3</th>\n",
              "      <td>A_star_is_born(2018)</td>\n",
              "      <td>B2</td>\n",
              "      <td>- &lt;i&gt;&lt;font color=\"#ffffff\"&gt; Synced and correct...</td>\n",
              "      <td>color ffffff sync correct b color ffd mrcjnthn...</td>\n",
              "    </tr>\n",
              "    <tr>\n",
              "      <th>4</th>\n",
              "      <td>Aladdin(1992)</td>\n",
              "      <td>A2</td>\n",
              "      <td>&lt;i&gt;Oh, I come from a land\\nFrom a faraway plac...</td>\n",
              "      <td>oh come land faraway place caravan camel roam ...</td>\n",
              "    </tr>\n",
              "    <tr>\n",
              "      <th>...</th>\n",
              "      <td>...</td>\n",
              "      <td>...</td>\n",
              "      <td>...</td>\n",
              "      <td>...</td>\n",
              "    </tr>\n",
              "    <tr>\n",
              "      <th>381</th>\n",
              "      <td>Vicky.Cristina.Barcelona[2008]DvDrip-aXXo</td>\n",
              "      <td>C1</td>\n",
              "      <td>Vicky and Cristina decided\\nto spend the summe...</td>\n",
              "      <td>vicky cristina decide spend summer barcelona v...</td>\n",
              "    </tr>\n",
              "    <tr>\n",
              "      <th>382</th>\n",
              "      <td>Warm Bodies_(2013)_en</td>\n",
              "      <td>C1</td>\n",
              "      <td>&lt;i&gt;What am I doing with my life?&lt;/i&gt;\\n&lt;i&gt;I'm s...</td>\n",
              "      <td>life pale get eat better posture terrible stan...</td>\n",
              "    </tr>\n",
              "    <tr>\n",
              "      <th>383</th>\n",
              "      <td>(eng)Searching.for.Sugar.Man.2012.720p.BRRip.x...</td>\n",
              "      <td>C1</td>\n",
              "      <td>(# Sugar Man by Rodriguez)\\n&lt;i&gt;# Sugar Man, wo...</td>\n",
              "      <td>sugar man rodriguez sugar man hurry co tire sc...</td>\n",
              "    </tr>\n",
              "    <tr>\n",
              "      <th>384</th>\n",
              "      <td>10.Cloverfield.Lane.2016.720p.BRRip.x264.AAC-ETRG</td>\n",
              "      <td>C1</td>\n",
              "      <td>&lt;font color=\"#D900D9\"&gt;(CLANGING)&lt;/font&gt;\\n&lt;font...</td>\n",
              "      <td>color clang color drawer close color inaudible...</td>\n",
              "    </tr>\n",
              "    <tr>\n",
              "      <th>385</th>\n",
              "      <td>Abduction [2011]</td>\n",
              "      <td>C1</td>\n",
              "      <td>Let's go party.\\nYeah, baby.\\nYeah. Gilly, get...</td>\n",
              "      <td>let go party yeah baby yeah gilly get yeah yea...</td>\n",
              "    </tr>\n",
              "  </tbody>\n",
              "</table>\n",
              "<p>386 rows × 4 columns</p>\n",
              "</div>\n",
              "      <button class=\"colab-df-convert\" onclick=\"convertToInteractive('df-a3266a2f-b549-43c8-940f-e77d8e730abf')\"\n",
              "              title=\"Convert this dataframe to an interactive table.\"\n",
              "              style=\"display:none;\">\n",
              "        \n",
              "  <svg xmlns=\"http://www.w3.org/2000/svg\" height=\"24px\"viewBox=\"0 0 24 24\"\n",
              "       width=\"24px\">\n",
              "    <path d=\"M0 0h24v24H0V0z\" fill=\"none\"/>\n",
              "    <path d=\"M18.56 5.44l.94 2.06.94-2.06 2.06-.94-2.06-.94-.94-2.06-.94 2.06-2.06.94zm-11 1L8.5 8.5l.94-2.06 2.06-.94-2.06-.94L8.5 2.5l-.94 2.06-2.06.94zm10 10l.94 2.06.94-2.06 2.06-.94-2.06-.94-.94-2.06-.94 2.06-2.06.94z\"/><path d=\"M17.41 7.96l-1.37-1.37c-.4-.4-.92-.59-1.43-.59-.52 0-1.04.2-1.43.59L10.3 9.45l-7.72 7.72c-.78.78-.78 2.05 0 2.83L4 21.41c.39.39.9.59 1.41.59.51 0 1.02-.2 1.41-.59l7.78-7.78 2.81-2.81c.8-.78.8-2.07 0-2.86zM5.41 20L4 18.59l7.72-7.72 1.47 1.35L5.41 20z\"/>\n",
              "  </svg>\n",
              "      </button>\n",
              "      \n",
              "  <style>\n",
              "    .colab-df-container {\n",
              "      display:flex;\n",
              "      flex-wrap:wrap;\n",
              "      gap: 12px;\n",
              "    }\n",
              "\n",
              "    .colab-df-convert {\n",
              "      background-color: #E8F0FE;\n",
              "      border: none;\n",
              "      border-radius: 50%;\n",
              "      cursor: pointer;\n",
              "      display: none;\n",
              "      fill: #1967D2;\n",
              "      height: 32px;\n",
              "      padding: 0 0 0 0;\n",
              "      width: 32px;\n",
              "    }\n",
              "\n",
              "    .colab-df-convert:hover {\n",
              "      background-color: #E2EBFA;\n",
              "      box-shadow: 0px 1px 2px rgba(60, 64, 67, 0.3), 0px 1px 3px 1px rgba(60, 64, 67, 0.15);\n",
              "      fill: #174EA6;\n",
              "    }\n",
              "\n",
              "    [theme=dark] .colab-df-convert {\n",
              "      background-color: #3B4455;\n",
              "      fill: #D2E3FC;\n",
              "    }\n",
              "\n",
              "    [theme=dark] .colab-df-convert:hover {\n",
              "      background-color: #434B5C;\n",
              "      box-shadow: 0px 1px 3px 1px rgba(0, 0, 0, 0.15);\n",
              "      filter: drop-shadow(0px 1px 2px rgba(0, 0, 0, 0.3));\n",
              "      fill: #FFFFFF;\n",
              "    }\n",
              "  </style>\n",
              "\n",
              "      <script>\n",
              "        const buttonEl =\n",
              "          document.querySelector('#df-a3266a2f-b549-43c8-940f-e77d8e730abf button.colab-df-convert');\n",
              "        buttonEl.style.display =\n",
              "          google.colab.kernel.accessAllowed ? 'block' : 'none';\n",
              "\n",
              "        async function convertToInteractive(key) {\n",
              "          const element = document.querySelector('#df-a3266a2f-b549-43c8-940f-e77d8e730abf');\n",
              "          const dataTable =\n",
              "            await google.colab.kernel.invokeFunction('convertToInteractive',\n",
              "                                                     [key], {});\n",
              "          if (!dataTable) return;\n",
              "\n",
              "          const docLinkHtml = 'Like what you see? Visit the ' +\n",
              "            '<a target=\"_blank\" href=https://colab.research.google.com/notebooks/data_table.ipynb>data table notebook</a>'\n",
              "            + ' to learn more about interactive tables.';\n",
              "          element.innerHTML = '';\n",
              "          dataTable['output_type'] = 'display_data';\n",
              "          await google.colab.output.renderOutput(dataTable, element);\n",
              "          const docLink = document.createElement('div');\n",
              "          docLink.innerHTML = docLinkHtml;\n",
              "          element.appendChild(docLink);\n",
              "        }\n",
              "      </script>\n",
              "    </div>\n",
              "  </div>\n",
              "  "
            ]
          },
          "metadata": {},
          "execution_count": 121
        }
      ]
    },
    {
      "cell_type": "code",
      "source": [
        "X = updated_cleaned_text\n",
        "y = updated_df[\"Level\"].values\n",
        "#Далее разделим выборку на тестовую и обучающую\n",
        "from sklearn.model_selection import train_test_split\n",
        "x_train, y_train, x_valid, y_valid = train_test_split(X, y, test_size = 0.33, random_state = 42)"
      ],
      "metadata": {
        "id": "LODL3q5OKq2Z"
      },
      "execution_count": null,
      "outputs": []
    },
    {
      "cell_type": "code",
      "source": [
        "# импортируем модуль CountVectorizer\n",
        "from sklearn.feature_extraction.text import CountVectorizer\n",
        "count = CountVectorizer()\n",
        "# проводим преобразование текста c помощью CountVectorizer\n",
        "CV_train2 = count.fit_transform(x_train).toarray()\n",
        "CV_test2 = count.transform(y_train).toarray()"
      ],
      "metadata": {
        "id": "OefYzqfdK4eA"
      },
      "execution_count": null,
      "outputs": []
    },
    {
      "cell_type": "code",
      "source": [
        "# импортируем модуль TfidfVectorizer\n",
        "from sklearn.feature_extraction.text import TfidfVectorizer\n",
        "tfidf_vectorizer = TfidfVectorizer()\n",
        "#преобразуем текст\n",
        "TFV_train2 = tfidf_vectorizer.fit_transform(x_train).toarray()\n",
        "TFV_test2 = tfidf_vectorizer.transform(y_train).toarray()"
      ],
      "metadata": {
        "id": "igt3hwryK--2"
      },
      "execution_count": null,
      "outputs": []
    },
    {
      "cell_type": "code",
      "source": [
        "sentences = [sentence.split() for sentence in x_train]\n",
        "w2v_model = Word2Vec(sentences, window=5, min_count=5, workers=4)\n",
        "\n",
        "def vectorize2(sentence):\n",
        "    words = sentence.split()\n",
        "    words_vecs = [w2v_model.wv[word] for word in words if word in w2v_model.wv]\n",
        "    if len(words_vecs) == 0:\n",
        "        return np.zeros(100)\n",
        "    words_vecs = np.array(words_vecs)\n",
        "    return words_vecs.mean(axis=0)\n",
        "\n",
        "W2V_train2 = np.array([vectorize(sentence) for sentence in x_train])\n",
        "W2V_test2 = np.array([vectorize(sentence) for sentence in y_train])\n",
        "W2V_train2"
      ],
      "metadata": {
        "colab": {
          "base_uri": "https://localhost:8080/"
        },
        "id": "bpAgfFcVLCv-",
        "outputId": "6d88f699-e563-4092-a1e0-49a08147f7e4"
      },
      "execution_count": null,
      "outputs": [
        {
          "output_type": "execute_result",
          "data": {
            "text/plain": [
              "array([[-0.09394096,  0.26703468,  0.03186907, ...,  0.11312572,\n",
              "         0.1376874 , -0.01618553],\n",
              "       [ 0.01549188,  0.28284663, -0.08818303, ...,  0.15567993,\n",
              "         0.20022807, -0.05371818],\n",
              "       [-0.00395896,  0.30659115, -0.05357558, ...,  0.18894069,\n",
              "         0.17101662, -0.09260166],\n",
              "       ...,\n",
              "       [ 0.06804983,  0.30582437, -0.14255473, ...,  0.26884252,\n",
              "         0.3256782 , -0.11965586],\n",
              "       [ 0.04415291,  0.28614432, -0.12812033, ...,  0.18267125,\n",
              "         0.24698138,  0.01864988],\n",
              "       [ 0.04886018,  0.20756923, -0.13253541, ...,  0.12054919,\n",
              "         0.25151631, -0.05138547]])"
            ]
          },
          "metadata": {},
          "execution_count": 232
        }
      ]
    },
    {
      "cell_type": "markdown",
      "source": [
        "Изучим результаты предсказания на данных, предобработанных с помощью- CountVectorizer"
      ],
      "metadata": {
        "id": "YLPrPpT6P67p"
      }
    },
    {
      "cell_type": "code",
      "source": [
        "x_train = CV_train2\n",
        "y_train = CV_test2"
      ],
      "metadata": {
        "id": "cNBX03NdMw3p"
      },
      "execution_count": null,
      "outputs": []
    },
    {
      "cell_type": "code",
      "source": [
        "LR = LogisticRegression(random_state=0, solver='lbfgs', multi_class='multinomial').fit(x_train, x_valid)\n",
        "LR_predict = LR.predict(y_train)\n",
        "print('Результат предсказания LogisticRegression', f1_score(y_valid, LR_predict, average='macro'))\n",
        "print('При этом точность-', f1_score(y_valid, LR_predict, average='micro'))\n",
        "\n",
        "SVM = svm.SVC(decision_function_shape=\"ovo\").fit(x_train, x_valid)\n",
        "SVM_predict = SVM.predict(y_train)\n",
        "print('Результат предсказания SVM', f1_score(y_valid, SVM_predict, average='macro'))\n",
        "print('При этом точность-', f1_score(y_valid, SVM_predict, average='micro'))\n",
        "\n",
        "NB = GaussianNB().fit(x_train, x_valid)\n",
        "NB_predict = NB.predict(y_train)\n",
        "print('Результат предсказания GaussianNB', f1_score(y_valid, NB_predict, average='macro'))\n",
        "print('При этом точность-', f1_score(y_valid, NB_predict, average='micro'))\n",
        "\n",
        "MultNB = MultinomialNB().fit(x_train, x_valid)\n",
        "MultNB_predict = MultNB.predict(y_train)\n",
        "print('Результат предсказания MultinomialNB', f1_score(y_valid, MultNB_predict, average='macro'))\n",
        "print('При этом точность-', f1_score(y_valid, MultNB_predict, average='micro'))\n",
        "\n",
        "\n",
        "SGDC = SGDClassifier(loss='hinge', penalty='l2',alpha=1e-3, random_state=42, max_iter=5, tol=None).fit(x_train, x_valid)\n",
        "SGDC_predict = SGDC.predict(y_train)\n",
        "print('Результат предсказания SGDC', f1_score(y_valid, SGDC_predict, average='macro'))\n",
        "print('При этом точность-', f1_score(y_valid, SGDC_predict, average='micro'))\n",
        "\n",
        "NN = MLPClassifier(solver='lbfgs', alpha=1e-5, hidden_layer_sizes=(150, 10), random_state=1).fit(x_train, x_valid)\n",
        "NN_predict = NN.predict(y_train)\n",
        "print('Результат предсказания MLPClassifier', f1_score(y_valid, NN_predict, average='macro'))\n",
        "print('При этом точность-', f1_score(y_valid, NN_predict, average='micro'))"
      ],
      "metadata": {
        "colab": {
          "base_uri": "https://localhost:8080/"
        },
        "id": "nJgSqJddM-Hy",
        "outputId": "cf7fa4f8-73ae-4b8c-eb2f-7eb10b502a96"
      },
      "execution_count": null,
      "outputs": [
        {
          "output_type": "stream",
          "name": "stderr",
          "text": [
            "/usr/local/lib/python3.10/dist-packages/sklearn/linear_model/_logistic.py:458: ConvergenceWarning: lbfgs failed to converge (status=1):\n",
            "STOP: TOTAL NO. of ITERATIONS REACHED LIMIT.\n",
            "\n",
            "Increase the number of iterations (max_iter) or scale the data as shown in:\n",
            "    https://scikit-learn.org/stable/modules/preprocessing.html\n",
            "Please also refer to the documentation for alternative solver options:\n",
            "    https://scikit-learn.org/stable/modules/linear_model.html#logistic-regression\n",
            "  n_iter_i = _check_optimize_result(\n"
          ]
        },
        {
          "output_type": "stream",
          "name": "stdout",
          "text": [
            "Результат предсказания LogisticRegression 0.5126436373953752\n",
            "При этом точность- 0.5078125\n",
            "Результат предсказания SVM 0.49692898719156076\n",
            "При этом точность- 0.4921875\n",
            "Результат предсказания GaussianNB 0.4360477572238286\n",
            "При этом точность- 0.4296875\n",
            "Результат предсказания MultinomialNB 0.5265242830013317\n",
            "При этом точность- 0.5234375\n",
            "Результат предсказания SGDC 0.47161471426177315\n",
            "При этом точность- 0.4921875\n",
            "Результат предсказания MLPClassifier 0.5041740825493686\n",
            "При этом точность- 0.5\n"
          ]
        },
        {
          "output_type": "stream",
          "name": "stderr",
          "text": [
            "/usr/local/lib/python3.10/dist-packages/sklearn/neural_network/_multilayer_perceptron.py:541: ConvergenceWarning: lbfgs failed to converge (status=1):\n",
            "STOP: TOTAL NO. of ITERATIONS REACHED LIMIT.\n",
            "\n",
            "Increase the number of iterations (max_iter) or scale the data as shown in:\n",
            "    https://scikit-learn.org/stable/modules/preprocessing.html\n",
            "  self.n_iter_ = _check_optimize_result(\"lbfgs\", opt_res, self.max_iter)\n"
          ]
        }
      ]
    },
    {
      "cell_type": "code",
      "source": [
        "KN_model = KNeighborsClassifier()\n",
        "KN_modelclassifier_params = {'n_neighbors':range(1, 50)}\n",
        "KN_modelclassifier = best_model(KN_model, KN_modelclassifier_params, x_train, x_valid, y_train, y_valid)\n",
        "KN_modelclassifier"
      ],
      "metadata": {
        "colab": {
          "base_uri": "https://localhost:8080/"
        },
        "id": "wf4WDjzUOcy_",
        "outputId": "c00f682a-8e57-47e2-b9c0-72396c4ec552"
      },
      "execution_count": null,
      "outputs": [
        {
          "output_type": "execute_result",
          "data": {
            "text/plain": [
              "(0.5040413544607036, {'n_neighbors': 3})"
            ]
          },
          "metadata": {},
          "execution_count": 235
        }
      ]
    },
    {
      "cell_type": "code",
      "source": [
        "RF_model = RandomForestClassifier(random_state=12345)\n",
        "forestclassifier_params = {'n_estimators':range(1, 100, 10),\n",
        "             'max_depth':range (1,20)}\n",
        "RandomForest = best_model(RF_model, forestclassifier_params, x_train, x_valid, y_train, y_valid)\n",
        "RandomForest"
      ],
      "metadata": {
        "colab": {
          "base_uri": "https://localhost:8080/"
        },
        "id": "JKM3DllqOdVR",
        "outputId": "23143f49-8921-47b6-9725-fd13900db680"
      },
      "execution_count": null,
      "outputs": [
        {
          "output_type": "execute_result",
          "data": {
            "text/plain": [
              "(0.5665595840002535, {'max_depth': 11, 'n_estimators': 91})"
            ]
          },
          "metadata": {},
          "execution_count": 236
        }
      ]
    },
    {
      "cell_type": "markdown",
      "source": [
        "Изучим результаты предсказания на данных, предобработанных с помощью- Word2Vec"
      ],
      "metadata": {
        "id": "zuXWybQzP51K"
      }
    },
    {
      "cell_type": "code",
      "source": [
        "x_train = TFV_train2\n",
        "y_train = TFV_test2"
      ],
      "metadata": {
        "id": "zFo8Zz6_P3nq"
      },
      "execution_count": null,
      "outputs": []
    },
    {
      "cell_type": "code",
      "source": [
        "LR = LogisticRegression(random_state=0, solver='lbfgs', multi_class='multinomial').fit(x_train, x_valid)\n",
        "LR_predict = LR.predict(y_train)\n",
        "print('Результат предсказания LogisticRegression', f1_score(y_valid, LR_predict, average='macro'))\n",
        "print('При этом точность-', f1_score(y_valid, LR_predict, average='micro'))\n",
        "\n",
        "SVM = svm.SVC(decision_function_shape=\"ovo\").fit(x_train, x_valid)\n",
        "SVM_predict = SVM.predict(y_train)\n",
        "print('Результат предсказания SVM', f1_score(y_valid, SVM_predict, average='macro'))\n",
        "print('При этом точность-', f1_score(y_valid, SVM_predict, average='micro'))\n",
        "\n",
        "NB = GaussianNB().fit(x_train, x_valid)\n",
        "NB_predict = NB.predict(y_train)\n",
        "print('Результат предсказания GaussianNB', f1_score(y_valid, NB_predict, average='macro'))\n",
        "print('При этом точность-', f1_score(y_valid, NB_predict, average='micro'))\n",
        "\n",
        "MultNB = MultinomialNB().fit(x_train, x_valid)\n",
        "MultNB_predict = MultNB.predict(y_train)\n",
        "print('Результат предсказания MultinomialNB', f1_score(y_valid, MultNB_predict, average='macro'))\n",
        "print('При этом точность-', f1_score(y_valid, MultNB_predict, average='micro'))\n",
        "\n",
        "\n",
        "SGDC = SGDClassifier(loss='hinge', penalty='l2',alpha=1e-3, random_state=42, max_iter=5, tol=None).fit(x_train, x_valid)\n",
        "SGDC_predict = SGDC.predict(y_train)\n",
        "print('Результат предсказания SGDC', f1_score(y_valid, SGDC_predict, average='macro'))\n",
        "print('При этом точность-', f1_score(y_valid, SGDC_predict, average='micro'))\n",
        "\n",
        "NN = MLPClassifier(solver='lbfgs', alpha=1e-5, hidden_layer_sizes=(150, 10), random_state=1).fit(x_train, x_valid)\n",
        "NN_predict = NN.predict(y_train)\n",
        "print('Результат предсказания MLPClassifier', f1_score(y_valid, NN_predict, average='macro'))\n",
        "print('При этом точность-', f1_score(y_valid, NN_predict, average='micro'))"
      ],
      "metadata": {
        "colab": {
          "base_uri": "https://localhost:8080/"
        },
        "outputId": "6c1dc100-2116-4d1e-f310-ccc57a5acce6",
        "id": "GwC3UhB4QMYV"
      },
      "execution_count": null,
      "outputs": [
        {
          "output_type": "stream",
          "name": "stdout",
          "text": [
            "Результат предсказания LogisticRegression 0.49343979164699586\n",
            "При этом точность- 0.4765625\n",
            "Результат предсказания SVM 0.4511764705882353\n",
            "При этом точность- 0.4453125\n",
            "Результат предсказания GaussianNB 0.41918912620497306\n",
            "При этом точность- 0.4140625\n",
            "Результат предсказания MultinomialNB 0.30303583142848994\n",
            "При этом точность- 0.359375\n",
            "Результат предсказания SGDC 0.5049491140329649\n",
            "При этом точность- 0.5078125\n",
            "Результат предсказания MLPClassifier 0.4945852534562212\n",
            "При этом точность- 0.484375\n"
          ]
        }
      ]
    },
    {
      "cell_type": "code",
      "source": [
        "KN_model = KNeighborsClassifier()\n",
        "KN_modelclassifier_params = {'n_neighbors':range(1, 50)}\n",
        "KN_modelclassifier = best_model(KN_model, KN_modelclassifier_params, x_train, x_valid, y_train, y_valid)\n",
        "KN_modelclassifier"
      ],
      "metadata": {
        "colab": {
          "base_uri": "https://localhost:8080/"
        },
        "id": "R2-h0RR0QWEV",
        "outputId": "b197ad1f-2d42-4d97-f58d-05d87e849ff4"
      },
      "execution_count": null,
      "outputs": [
        {
          "output_type": "execute_result",
          "data": {
            "text/plain": [
              "(0.44861113228281335, {'n_neighbors': 2})"
            ]
          },
          "metadata": {},
          "execution_count": 239
        }
      ]
    },
    {
      "cell_type": "code",
      "source": [
        "RF_model = RandomForestClassifier(random_state=12345)\n",
        "forestclassifier_params = {'n_estimators':range(1, 100, 10),\n",
        "             'max_depth':range (1,20)}\n",
        "RandomForest = best_model(RF_model, forestclassifier_params, x_train, x_valid, y_train, y_valid)\n",
        "RandomForest"
      ],
      "metadata": {
        "colab": {
          "base_uri": "https://localhost:8080/"
        },
        "id": "GWI5xg1jQULN",
        "outputId": "f0e55973-4abd-44bb-f639-0951f51e3027"
      },
      "execution_count": null,
      "outputs": [
        {
          "output_type": "execute_result",
          "data": {
            "text/plain": [
              "(0.6046674998015922, {'max_depth': 9, 'n_estimators': 91})"
            ]
          },
          "metadata": {},
          "execution_count": 240
        }
      ]
    },
    {
      "cell_type": "markdown",
      "source": [
        "Изучим результаты предсказания на данных, предобработанных с помощью- TfidfVectorizer\n"
      ],
      "metadata": {
        "id": "H-Nwym1AQByO"
      }
    },
    {
      "cell_type": "code",
      "source": [
        "x_train = W2V_train2\n",
        "y_train = W2V_test2"
      ],
      "metadata": {
        "id": "LINRnmI8Q3ua"
      },
      "execution_count": null,
      "outputs": []
    },
    {
      "cell_type": "code",
      "source": [
        "LR = LogisticRegression(random_state=0, solver='lbfgs', multi_class='multinomial').fit(x_train, x_valid)\n",
        "LR_predict = LR.predict(y_train)\n",
        "print('Результат предсказания LogisticRegression', f1_score(y_valid, LR_predict, average='macro'))\n",
        "print('При этом точность-', f1_score(y_valid, LR_predict, average='micro'))\n",
        "\n",
        "SVM = svm.SVC(decision_function_shape=\"ovo\").fit(x_train, x_valid)\n",
        "SVM_predict = SVM.predict(y_train)\n",
        "print('Результат предсказания SVM', f1_score(y_valid, SVM_predict, average='macro'))\n",
        "print('При этом точность-', f1_score(y_valid, SVM_predict, average='micro'))\n",
        "\n",
        "NB = GaussianNB().fit(x_train, x_valid)\n",
        "NB_predict = NB.predict(y_train)\n",
        "print('Результат предсказания GaussianNB', f1_score(y_valid, NB_predict, average='macro'))\n",
        "print('При этом точность-', f1_score(y_valid, NB_predict, average='micro'))\n",
        "\n",
        "# MultinomialNB не получилось использовать, так как он выдает ошибку из-за передачи отрицательных данных\n",
        "#MultNB = MultinomialNB().fit(x_train, x_valid)\n",
        "#MultNB_predict = MultNB.predict(y_train)\n",
        "#print('Результат предсказания MultinomialNB', f1_score(y_valid, MultNB_predict, average='macro'))\n",
        "\n",
        "SGDC = SGDClassifier(loss='hinge', penalty='l2',alpha=1e-3, random_state=42, max_iter=5, tol=None).fit(x_train, x_valid)\n",
        "SGDC_predict = SGDC.predict(y_train)\n",
        "print('Результат предсказания SGDC', f1_score(y_valid, SGDC_predict, average='macro'))\n",
        "print('При этом точность-', f1_score(y_valid, SGDC_predict, average='micro'))\n",
        "\n",
        "NN = MLPClassifier(solver='lbfgs', alpha=1e-5, hidden_layer_sizes=(150, 10), random_state=1).fit(x_train, x_valid)\n",
        "NN_predict = NN.predict(y_train)\n",
        "print('Результат предсказания MLPClassifier', f1_score(y_valid, NN_predict, average='macro'))\n",
        "print('При этом точность-', f1_score(y_valid, NN_predict, average='micro'))"
      ],
      "metadata": {
        "colab": {
          "base_uri": "https://localhost:8080/"
        },
        "id": "ngVBN6trQ8B1",
        "outputId": "1ac17ceb-5d0d-4a23-c8d2-0d36b5fcaf37"
      },
      "execution_count": null,
      "outputs": [
        {
          "output_type": "stream",
          "name": "stderr",
          "text": [
            "/usr/local/lib/python3.10/dist-packages/sklearn/linear_model/_logistic.py:458: ConvergenceWarning: lbfgs failed to converge (status=1):\n",
            "STOP: TOTAL NO. of ITERATIONS REACHED LIMIT.\n",
            "\n",
            "Increase the number of iterations (max_iter) or scale the data as shown in:\n",
            "    https://scikit-learn.org/stable/modules/preprocessing.html\n",
            "Please also refer to the documentation for alternative solver options:\n",
            "    https://scikit-learn.org/stable/modules/linear_model.html#logistic-regression\n",
            "  n_iter_i = _check_optimize_result(\n"
          ]
        },
        {
          "output_type": "stream",
          "name": "stdout",
          "text": [
            "Результат предсказания LogisticRegression 0.49588094841468155\n",
            "При этом точность- 0.5\n",
            "Результат предсказания SVM 0.39390635918937805\n",
            "При этом точность- 0.4296875\n",
            "Результат предсказания GaussianNB 0.37211711711711715\n",
            "При этом точность- 0.40625\n",
            "Результат предсказания SGDC 0.5062567713976165\n",
            "При этом точность- 0.515625\n",
            "Результат предсказания MLPClassifier 0.5267901497409694\n",
            "При этом точность- 0.53125\n"
          ]
        },
        {
          "output_type": "stream",
          "name": "stderr",
          "text": [
            "/usr/local/lib/python3.10/dist-packages/sklearn/neural_network/_multilayer_perceptron.py:541: ConvergenceWarning: lbfgs failed to converge (status=1):\n",
            "STOP: TOTAL NO. of ITERATIONS REACHED LIMIT.\n",
            "\n",
            "Increase the number of iterations (max_iter) or scale the data as shown in:\n",
            "    https://scikit-learn.org/stable/modules/preprocessing.html\n",
            "  self.n_iter_ = _check_optimize_result(\"lbfgs\", opt_res, self.max_iter)\n"
          ]
        }
      ]
    },
    {
      "cell_type": "code",
      "source": [
        "KN_model = KNeighborsClassifier()\n",
        "KN_modelclassifier_params = {'n_neighbors':range(1, 50)}\n",
        "KN_modelclassifier = best_model(KN_model, KN_modelclassifier_params, x_train, x_valid, y_train, y_valid)\n",
        "KN_modelclassifier"
      ],
      "metadata": {
        "colab": {
          "base_uri": "https://localhost:8080/"
        },
        "id": "rxS_3nINQ_Gd",
        "outputId": "3470fdc1-43a2-44fe-fe99-aa4e341fa892"
      },
      "execution_count": null,
      "outputs": [
        {
          "output_type": "execute_result",
          "data": {
            "text/plain": [
              "(0.544163339044108, {'n_neighbors': 6})"
            ]
          },
          "metadata": {},
          "execution_count": 243
        }
      ]
    },
    {
      "cell_type": "code",
      "source": [
        "RF_model = RandomForestClassifier(random_state=12345)\n",
        "forestclassifier_params = {'n_estimators':range(1, 100, 10),\n",
        "             'max_depth':range (1,20)}\n",
        "RandomForest = best_model(RF_model, forestclassifier_params, x_train, x_valid, y_train, y_valid)\n",
        "RandomForest"
      ],
      "metadata": {
        "colab": {
          "base_uri": "https://localhost:8080/"
        },
        "id": "oxpY0tkJRAcC",
        "outputId": "8c3183eb-4014-4423-abed-2ebc1c439d5d"
      },
      "execution_count": null,
      "outputs": [
        {
          "output_type": "execute_result",
          "data": {
            "text/plain": [
              "(0.5832410808060446, {'max_depth': 3, 'n_estimators': 31})"
            ]
          },
          "metadata": {},
          "execution_count": 244
        }
      ]
    },
    {
      "cell_type": "markdown",
      "source": [
        "Выводы по результатам работы:\n",
        "\n",
        "Лучшая модель показала результат - 0.64 (F1_macro) на тестовой выборке, после обучения модели с использованием, \"наивного\" Байесовского классификатора (GaussianNB ), обученного на признаках, предобработанных при помощи- CountVectorized. Метрики F1_weighted удалось достичь - 0.67.\n",
        "\n",
        "Основной метрикой в данной задаче, мной была выбрана метрика- f1_macro, так как была важна точность предсказания по всем из используемых классов.\n",
        "\n",
        "При этом, наилучший результат был получен именно на изначальной выборке с дисбалансом классов, в то время как выборка с устраненным на основании размеченных другим сервисом данных не принесла желаемого результата. И хотя устранение дисбаланса помогло повысить метрику точности, наибольший результат предсказания показала модель обученная на данных с дисбалансом. Из чего можно сделать вывод, что первончальные данные размечались напрямую человеком и подвержены определенной доли субъективности, из-за чего расширение датасета за счет моделей, размеченных по уровню сложности исходя из используеммых в данных слов и не дало результата.\n",
        "\n",
        "Что стоит сделать в будущем? (Мысли по улучшению модели)\n",
        "- Изучить на предсказание каких классов модель ошибается чаще всего и за счет этого внести дополнительные улучшения в модель\n",
        "- Подумать какие дополнительные признаки, можно добавить к модели (возможно частоту упминания слов из Оксфордского словаря по классам, имеющемся в датасете)\n",
        "- Собрать больше фильмов с размеченным уровнем сложности с одинаковым количеством в каждом классе, включая уровень A1. Это поможет улучшить прогностические способности модели.\n",
        "- Возможно стоит полностью исключить из алгоритма первоначальную разметку, так как она не лишена субъективности, что мешает дополнить датасет новыми данными на основе разметки с использованием машинного обучения, например- https://towardsdatascience.com/the-best-netflix-movies-series-to-learn-english-according-to-data-science-dec7b047b164"
      ],
      "metadata": {
        "id": "eZhxvJEHfSDx"
      }
    }
  ]
}